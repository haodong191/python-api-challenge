{
 "cells": [
  {
   "cell_type": "markdown",
   "metadata": {},
   "source": [
    "# WeatherPy\n",
    "----\n",
    "\n",
    "#### Note\n",
    "* Instructions have been included for each segment. You do not have to follow them exactly, but they are included to help you think through the steps."
   ]
  },
  {
   "cell_type": "code",
   "execution_count": 72,
   "metadata": {
    "scrolled": true
   },
   "outputs": [],
   "source": [
    "# Dependencies and Setup\n",
    "import matplotlib.pyplot as plt\n",
    "import pandas as pd\n",
    "import numpy as np\n",
    "import requests\n",
    "import time\n",
    "from scipy.stats import linregress\n",
    "from pprint import pprint\n",
    "\n",
    "# Import API key\n",
    "from api_keys import weather_api_key\n",
    "\n",
    "# Incorporated citipy to determine city based on latitude and longitude\n",
    "from citipy import citipy\n",
    "\n",
    "# Output File (CSV)\n",
    "output_data_file = \"../output_data/cities.csv\"\n",
    "\n",
    "# Range of latitudes and longitudes\n",
    "lat_range = (-90, 90)\n",
    "lng_range = (-180, 180)"
   ]
  },
  {
   "cell_type": "markdown",
   "metadata": {},
   "source": [
    "## Generate Cities List"
   ]
  },
  {
   "cell_type": "code",
   "execution_count": 3,
   "metadata": {},
   "outputs": [
    {
     "data": {
      "text/plain": [
       "622"
      ]
     },
     "execution_count": 3,
     "metadata": {},
     "output_type": "execute_result"
    }
   ],
   "source": [
    "# List for holding lat_lngs and cities\n",
    "lat_lngs = []\n",
    "cities = []\n",
    "\n",
    "# Create a set of random lat and lng combinations\n",
    "lats = np.random.uniform(lat_range[0], lat_range[1], size=1500)\n",
    "lngs = np.random.uniform(lng_range[0], lng_range[1], size=1500)\n",
    "lat_lngs = zip(lats, lngs)\n",
    "\n",
    "# Identify nearest city for each lat, lng combination\n",
    "for lat_lng in lat_lngs:\n",
    "    city = citipy.nearest_city(lat_lng[0], lat_lng[1]).city_name\n",
    "    \n",
    "    # If the city is unique, then add it to a our cities list\n",
    "    if city not in cities:\n",
    "        cities.append(city)\n",
    "\n",
    "# Print the city count to confirm sufficient count\n",
    "len(cities)"
   ]
  },
  {
   "cell_type": "markdown",
   "metadata": {},
   "source": [
    "### Perform API Calls\n",
    "* Perform a weather check on each city using a series of successive API calls.\n",
    "* Include a print log of each city as it'sbeing processed (with the city number and city name).\n"
   ]
  },
  {
   "cell_type": "code",
   "execution_count": 7,
   "metadata": {
    "scrolled": true
   },
   "outputs": [
    {
     "name": "stdout",
     "output_type": "stream",
     "text": [
      "http://api.openweathermap.org/data/2.5/weather?units=Imperial&APPID=2d2efa2a8b32e43a0906b5af9748e29e&q=\n",
      "Processing Record for arraial do cabo\n",
      "Processing Record for moyo\n",
      "Processing Record for dhidhdhoo\n",
      "Processing Record for banyo\n",
      "Processing Record for upernavik\n",
      "Processing Record for saint-joseph\n",
      "Processing Record for new norfolk\n",
      "Processing Record for longyearbyen\n",
      "Processing Record for bluff\n",
      "Processing Record for kristiansund\n",
      "Processing Record for maningrida\n",
      "Processing Record for georgetown\n",
      "Processing Record for linjiang\n",
      "Processing Record for vaini\n",
      "Processing Record for bayanday\n",
      "Processing Record for lakota\n",
      "Processing Record for albany\n",
      "Processing Record for punta arenas\n",
      "City not valid/found\n",
      "Processing Record for asau\n",
      "Processing Record for puerto ayora\n",
      "Processing Record for khatanga\n",
      "Processing Record for kulhudhuffushi\n",
      "City not valid/found\n",
      "Processing Record for provideniya\n",
      "City not valid/found\n",
      "Processing Record for busselton\n",
      "City not valid/found\n",
      "Processing Record for esperance\n",
      "Processing Record for biala podlaska\n",
      "Processing Record for severo-kurilsk\n",
      "Processing Record for ishigaki\n",
      "City not valid/found\n",
      "Processing Record for kualakapuas\n",
      "Processing Record for mahebourg\n",
      "Processing Record for talnakh\n",
      "Processing Record for mar del plata\n",
      "Processing Record for mangan\n",
      "Processing Record for ushuaia\n",
      "Processing Record for norman wells\n",
      "Processing Record for hervey bay\n",
      "Processing Record for fort nelson\n",
      "Processing Record for rikitea\n",
      "Processing Record for chimbote\n",
      "Processing Record for talcahuano\n",
      "Processing Record for kjopsvik\n",
      "Processing Record for omboue\n",
      "Processing Record for sitka\n",
      "Processing Record for bengkulu\n",
      "Processing Record for bathsheba\n",
      "Processing Record for komsomolskiy\n",
      "City not valid/found\n",
      "Processing Record for hithadhoo\n",
      "Processing Record for port blair\n",
      "Processing Record for chokurdakh\n",
      "Processing Record for saint anthony\n",
      "Processing Record for barrow\n",
      "City not valid/found\n",
      "Processing Record for dauriya\n",
      "Processing Record for marienburg\n",
      "Processing Record for pemangkat\n",
      "City not valid/found\n",
      "Processing Record for luganville\n",
      "Processing Record for howard springs\n",
      "Processing Record for port alfred\n",
      "Processing Record for jamestown\n",
      "Processing Record for torbay\n",
      "City not valid/found\n",
      "Processing Record for nome\n",
      "Processing Record for mataura\n",
      "Processing Record for san cristobal\n",
      "Processing Record for marawi\n",
      "Processing Record for cookeville\n",
      "Processing Record for ponta do sol\n",
      "Processing Record for saskylakh\n",
      "Processing Record for bredasdorp\n",
      "Processing Record for hasaki\n",
      "Processing Record for bethel\n",
      "Processing Record for dingle\n",
      "Processing Record for castro\n",
      "Processing Record for miri\n",
      "Processing Record for saint-augustin\n",
      "Processing Record for port hawkesbury\n",
      "Processing Record for aklavik\n",
      "Processing Record for vrangel\n",
      "Processing Record for sao filipe\n",
      "Processing Record for kavieng\n",
      "Processing Record for hirado\n",
      "Processing Record for ngemplak\n",
      "Processing Record for turangi\n",
      "Processing Record for dukat\n",
      "Processing Record for east london\n",
      "City not valid/found\n",
      "Processing Record for coihaique\n",
      "Processing Record for uga\n",
      "Processing Record for kapaa\n",
      "Processing Record for mehamn\n",
      "Processing Record for ponta delgada\n",
      "Processing Record for saint-philippe\n",
      "Processing Record for lompoc\n",
      "Processing Record for chuy\n",
      "Processing Record for ribeira grande\n",
      "Processing Record for bud\n",
      "Processing Record for port elizabeth\n",
      "City not valid/found\n",
      "Processing Record for hermanus\n",
      "Processing Record for klyuchi\n",
      "Processing Record for rudnogorsk\n",
      "Processing Record for fairbanks\n",
      "Processing Record for korla\n",
      "Processing Record for chuzhou\n",
      "Processing Record for maridi\n",
      "Processing Record for shimoda\n",
      "Processing Record for dikson\n",
      "Processing Record for hyeres\n",
      "Processing Record for eyl\n",
      "Processing Record for mahbubabad\n",
      "Processing Record for avera\n",
      "Processing Record for petauke\n",
      "Processing Record for jibuti\n",
      "Processing Record for nikolskoye\n",
      "Processing Record for pacific grove\n",
      "Processing Record for winnemucca\n",
      "Processing Record for sioux lookout\n",
      "Processing Record for santa maria\n",
      "Processing Record for thompson\n",
      "Processing Record for cape town\n",
      "Processing Record for atuona\n",
      "Processing Record for galesong\n",
      "Processing Record for kruisfontein\n",
      "Processing Record for san patricio\n",
      "Processing Record for tuktoyaktuk\n",
      "Processing Record for maumere\n",
      "City not valid/found\n",
      "Processing Record for hilo\n",
      "Processing Record for galle\n",
      "Processing Record for oktyabrskiy\n",
      "Processing Record for bambanglipuro\n",
      "Processing Record for anadyr\n",
      "Processing Record for port lincoln\n",
      "Processing Record for cherskiy\n",
      "Processing Record for hami\n",
      "Processing Record for santa cruz\n",
      "Processing Record for narsaq\n",
      "Processing Record for cabo san lucas\n",
      "Processing Record for bafq\n",
      "Processing Record for balkanabat\n",
      "Processing Record for flinders\n",
      "Processing Record for banda aceh\n",
      "Processing Record for carnarvon\n",
      "City not valid/found\n",
      "Processing Record for bilibino\n",
      "Processing Record for chardara\n",
      "Processing Record for qinhuangdao\n",
      "Processing Record for mareeba\n",
      "Processing Record for dickinson\n",
      "Processing Record for hobyo\n",
      "Processing Record for comodoro rivadavia\n",
      "Processing Record for tiksi\n",
      "Processing Record for tuatapere\n",
      "City not valid/found\n",
      "Processing Record for pimentel\n",
      "Processing Record for axim\n",
      "City not valid/found\n",
      "Processing Record for hamilton\n",
      "Processing Record for soyo\n",
      "Processing Record for faanui\n",
      "Processing Record for tabou\n",
      "City not valid/found\n",
      "Processing Record for maltahohe\n",
      "Processing Record for biscarrosse\n",
      "City not valid/found\n",
      "Processing Record for cobija\n",
      "Processing Record for huarmey\n",
      "Processing Record for lalganj\n",
      "Processing Record for yulara\n",
      "Processing Record for mackay\n",
      "Processing Record for wakema\n",
      "Processing Record for camana\n",
      "Processing Record for portland\n",
      "Processing Record for pevek\n",
      "Processing Record for the valley\n",
      "Processing Record for lima\n",
      "Processing Record for mandalgovi\n",
      "Processing Record for qaanaaq\n",
      "Processing Record for kirkenes\n",
      "Processing Record for lebu\n",
      "Processing Record for padampur\n",
      "Processing Record for aketi\n",
      "Processing Record for deputatskiy\n",
      "Processing Record for ishinomaki\n",
      "Processing Record for huilong\n",
      "Processing Record for hofn\n",
      "Processing Record for darhan\n",
      "Processing Record for pampierstad\n",
      "Processing Record for hobart\n",
      "Processing Record for katsuura\n",
      "Processing Record for qaqortoq\n",
      "Processing Record for cortez\n",
      "Processing Record for paamiut\n",
      "Processing Record for sorong\n",
      "Processing Record for san quintin\n",
      "Processing Record for micomeseng\n",
      "City not valid/found\n",
      "Processing Record for kokopo\n",
      "Processing Record for oksfjord\n",
      "Processing Record for ceres\n",
      "Processing Record for butaritari\n",
      "Processing Record for melenci\n",
      "City not valid/found\n",
      "Processing Record for aguimes\n",
      "Processing Record for changli\n",
      "Processing Record for yumen\n",
      "Processing Record for aneho\n",
      "Processing Record for srednekolymsk\n",
      "Processing Record for bac lieu\n",
      "Processing Record for yellowknife\n",
      "Processing Record for tam ky\n",
      "Processing Record for atar\n",
      "Processing Record for santa barbara\n",
      "Processing Record for guiyang\n",
      "Processing Record for nsanje\n",
      "Processing Record for korcula\n",
      "Processing Record for tongchuan\n",
      "Processing Record for pontianak\n",
      "Processing Record for nara\n",
      "Processing Record for teahupoo\n",
      "Processing Record for eureka\n",
      "Processing Record for ondjiva\n",
      "City not valid/found\n",
      "Processing Record for vilnius\n",
      "Processing Record for saint-francois\n",
      "Processing Record for ponferrada\n",
      "Processing Record for bozdar\n",
      "Processing Record for albury\n",
      "Processing Record for garissa\n",
      "Processing Record for zittau\n",
      "Processing Record for kotelnikovo\n",
      "Processing Record for zhanaozen\n",
      "Processing Record for necochea\n",
      "Processing Record for isangel\n",
      "Processing Record for mpongwe\n",
      "Processing Record for tura\n",
      "Processing Record for geraldton\n",
      "Processing Record for rtishchevo\n",
      "City not valid/found\n",
      "Processing Record for port hueneme\n",
      "Processing Record for lasa\n",
      "Processing Record for ghanzi\n",
      "Processing Record for lubao\n",
      "City not valid/found\n",
      "Processing Record for constitucion\n",
      "Processing Record for pietersburg\n",
      "Processing Record for kavaratti\n",
      "Processing Record for chimore\n",
      "Processing Record for la ronge\n",
      "Processing Record for pisco\n",
      "Processing Record for kununurra\n",
      "Processing Record for urengoy\n",
      "City not valid/found\n",
      "Processing Record for zhezkazgan\n",
      "Processing Record for salalah\n",
      "Processing Record for itarema\n",
      "Processing Record for henties bay\n",
      "Processing Record for lorengau\n",
      "Processing Record for trairi\n",
      "Processing Record for saint george\n",
      "Processing Record for neon monastirion\n",
      "Processing Record for palana\n",
      "Processing Record for moree\n",
      "Processing Record for kosikha\n",
      "City not valid/found\n",
      "Processing Record for varhaug\n",
      "Processing Record for kerrobert\n",
      "Processing Record for westport\n",
      "Processing Record for haines junction\n",
      "Processing Record for pangnirtung\n",
      "Processing Record for jumla\n",
      "Processing Record for batagay\n",
      "City not valid/found\n",
      "Processing Record for boffa\n",
      "Processing Record for chongwe\n",
      "Processing Record for kahului\n",
      "Processing Record for concepcion del oro\n",
      "Processing Record for kuandian\n",
      "Processing Record for ancud\n",
      "Processing Record for tasiilaq\n",
      "Processing Record for grand gaube\n",
      "Processing Record for choya\n",
      "Processing Record for puerto colombia\n",
      "Processing Record for pedasi\n",
      "Processing Record for kodiak\n",
      "Processing Record for nanning\n",
      "Processing Record for boa vista\n",
      "Processing Record for primero de marzo\n",
      "Processing Record for tiebissou\n",
      "Processing Record for kosh-agach\n",
      "Processing Record for ulladulla\n",
      "Processing Record for gore\n",
      "Processing Record for leningradskiy\n",
      "Processing Record for acapulco\n",
      "Processing Record for bereda\n",
      "Processing Record for pierre\n",
      "Processing Record for maraba\n",
      "Processing Record for maniitsoq\n",
      "Processing Record for gambela\n",
      "Processing Record for rocha\n",
      "Processing Record for coquimbo\n",
      "Processing Record for rawson\n",
      "Processing Record for broome\n",
      "City not valid/found\n",
      "Processing Record for santa vitoria do palmar\n",
      "Processing Record for port hardy\n",
      "Processing Record for lekoni\n",
      "Processing Record for avarua\n",
      "Processing Record for vila velha\n",
      "Processing Record for kaitangata\n",
      "Processing Record for nanortalik\n",
      "Processing Record for codrington\n",
      "Processing Record for benguela\n",
      "Processing Record for magadan\n",
      "Processing Record for tigil\n",
      "Processing Record for luderitz\n",
      "Processing Record for sao simao\n",
      "Processing Record for beringovskiy\n",
      "Processing Record for bow island\n",
      "Processing Record for beyneu\n",
      "Processing Record for praxedis guerrero\n",
      "Processing Record for dutlwe\n",
      "City not valid/found\n",
      "Processing Record for baoning\n",
      "Processing Record for mandan\n",
      "Processing Record for resistencia\n",
      "City not valid/found\n",
      "City not valid/found\n",
      "Processing Record for denpasar\n",
      "Processing Record for vestmannaeyjar\n",
      "Processing Record for uaua\n",
      "Processing Record for thinadhoo\n",
      "Processing Record for nkhata bay\n",
      "Processing Record for samarai\n",
      "Processing Record for cayenne\n",
      "Processing Record for lahaina\n",
      "Processing Record for porto novo\n",
      "Processing Record for iqaluit\n",
      "Processing Record for grand-santi\n",
      "Processing Record for aksarka\n",
      "Processing Record for baykit\n",
      "Processing Record for wangaratta\n",
      "City not valid/found\n",
      "City not valid/found\n",
      "Processing Record for easton\n",
      "Processing Record for atasu\n",
      "Processing Record for koutsouras\n",
      "Processing Record for valdivia\n",
      "Processing Record for nobeoka\n",
      "City not valid/found\n",
      "Processing Record for mbala\n",
      "Processing Record for giddalur\n",
      "Processing Record for cockburn town\n",
      "Processing Record for roald\n",
      "Processing Record for noumea\n",
      "Processing Record for aguas vermelhas\n",
      "Processing Record for papar\n",
      "Processing Record for kirsanov\n",
      "Processing Record for nepomuceno\n",
      "Processing Record for kysyl-syr\n",
      "Processing Record for whitehorse\n",
      "Processing Record for taksimo\n",
      "Processing Record for manggar\n",
      "Processing Record for gizo\n",
      "Processing Record for lagoa\n",
      "Processing Record for pelym\n",
      "Processing Record for kargil\n",
      "Processing Record for sungairaya\n",
      "Processing Record for ampanihy\n",
      "City not valid/found\n",
      "Processing Record for paharpur\n",
      "Processing Record for russas\n",
      "Processing Record for mayumba\n",
      "Processing Record for kalawit\n",
      "City not valid/found\n",
      "Processing Record for fortuna\n",
      "Processing Record for sosnovka\n",
      "Processing Record for ixtapa\n",
      "Processing Record for cabra\n",
      "Processing Record for taoudenni\n",
      "Processing Record for ciudad bolivar\n",
      "Processing Record for svetlaya\n",
      "Processing Record for mogadishu\n",
      "Processing Record for adrar\n",
      "Processing Record for portel\n",
      "City not valid/found\n",
      "Processing Record for ludvika\n",
      "City not valid/found\n",
      "Processing Record for samana\n",
      "City not valid/found\n",
      "Processing Record for champua\n",
      "Processing Record for kushiro\n",
      "Processing Record for birao\n",
      "Processing Record for vao\n",
      "Processing Record for ketchikan\n",
      "Processing Record for catamarca\n",
      "Processing Record for pokrovsk\n",
      "Processing Record for tucurui\n",
      "Processing Record for trelew\n",
      "Processing Record for belyy yar\n",
      "Processing Record for bosaso\n",
      "Processing Record for milkovo\n",
      "Processing Record for lindi\n",
      "Processing Record for sinjar\n",
      "Processing Record for nouakchott\n",
      "Processing Record for nador\n",
      "Processing Record for vila franca do campo\n",
      "Processing Record for sisimiut\n",
      "Processing Record for livingstone\n",
      "Processing Record for sobolevo\n",
      "City not valid/found\n",
      "Processing Record for carnduff\n",
      "Processing Record for panzhihua\n",
      "Processing Record for bodegraven\n",
      "Processing Record for gold coast\n",
      "Processing Record for ayacucho\n",
      "Processing Record for korem\n",
      "Processing Record for kidal\n",
      "Processing Record for sechelt\n",
      "Processing Record for carutapera\n",
      "Processing Record for kloulklubed\n",
      "Processing Record for yerbogachen\n",
      "Processing Record for lashio\n",
      "Processing Record for ilulissat\n",
      "Processing Record for saldanha\n",
      "Processing Record for springdale\n",
      "Processing Record for saint-pierre\n",
      "Processing Record for tomball\n",
      "Processing Record for alta floresta\n",
      "Processing Record for kayerkan\n",
      "Processing Record for kang\n",
      "Processing Record for inuvik\n",
      "Processing Record for dakar\n",
      "Processing Record for uberaba\n",
      "Processing Record for hare bay\n",
      "Processing Record for bambous virieux\n",
      "Processing Record for abu dhabi\n",
      "Processing Record for zambezi\n",
      "Processing Record for chake chake\n",
      "Processing Record for khandyga\n",
      "Processing Record for chapais\n",
      "City not valid/found\n",
      "Processing Record for dunedin\n",
      "Processing Record for front royal\n",
      "Processing Record for anloga\n",
      "Processing Record for ewa beach\n",
      "Processing Record for chimaltenango\n",
      "Processing Record for disna\n",
      "Processing Record for faya\n",
      "Processing Record for vallenar\n",
      "Processing Record for ahipara\n",
      "Processing Record for roura\n",
      "Processing Record for dire\n",
      "Processing Record for petropavlovsk-kamchatskiy\n",
      "Processing Record for namatanai\n",
      "Processing Record for souillac\n",
      "Processing Record for padang\n",
      "Processing Record for osorno\n",
      "Processing Record for chicama\n",
      "Processing Record for sleaford\n",
      "Processing Record for chumikan\n",
      "Processing Record for ostrovnoy\n",
      "Processing Record for oliver\n",
      "Processing Record for sola\n",
      "Processing Record for inhambane\n",
      "Processing Record for hualmay\n",
      "Processing Record for sao joao da barra\n",
      "Processing Record for atambua\n",
      "Processing Record for mount isa\n",
      "Processing Record for progreso\n",
      "Processing Record for touros\n",
      "Processing Record for ravar\n",
      "Processing Record for iquique\n",
      "City not valid/found\n",
      "Processing Record for chunhuhub\n",
      "Processing Record for meadow lake\n",
      "Processing Record for sarakhs\n",
      "Processing Record for yuzhno-sukhokumsk\n",
      "Processing Record for batsfjord\n",
      "Processing Record for millinocket\n",
      "Processing Record for nouadhibou\n",
      "Processing Record for piacabucu\n",
      "Processing Record for manokwari\n",
      "Processing Record for alofi\n",
      "Processing Record for riyadh\n",
      "Processing Record for chunoyar\n",
      "Processing Record for tual\n",
      "Processing Record for karratha\n",
      "Processing Record for gweta\n",
      "Processing Record for doha\n",
      "Processing Record for meulaboh\n",
      "Processing Record for tomatlan\n",
      "Processing Record for nyrob\n",
      "Processing Record for togur\n",
      "Processing Record for spring hill\n",
      "Processing Record for bhaderwah\n",
      "Processing Record for copperas cove\n",
      "Processing Record for sorland\n",
      "Processing Record for alyangula\n",
      "City not valid/found\n",
      "Processing Record for berlevag\n",
      "Processing Record for victoria\n",
      "Processing Record for morondava\n",
      "Processing Record for caraballeda\n",
      "Processing Record for grindavik\n",
      "Processing Record for roebourne\n",
      "Processing Record for ust-nera\n",
      "Processing Record for poum\n",
      "City not valid/found\n",
      "Processing Record for kirakira\n",
      "Processing Record for laguna\n",
      "Processing Record for umm kaddadah\n",
      "Processing Record for raga\n",
      "Processing Record for valparaiso\n",
      "Processing Record for caravelas\n",
      "Processing Record for lazaro cardenas\n",
      "Processing Record for college\n",
      "Processing Record for mariental\n",
      "Processing Record for cidreira\n",
      "City not valid/found\n",
      "Processing Record for gumdag\n",
      "Processing Record for sakakah\n",
      "Processing Record for puri\n",
      "Processing Record for berdigestyakh\n",
      "Processing Record for lusambo\n",
      "Processing Record for bandarbeyla\n",
      "Processing Record for thunder bay\n",
      "Processing Record for isiro\n",
      "Processing Record for gushikawa\n",
      "Processing Record for bonthe\n",
      "Processing Record for shingu\n",
      "Processing Record for coahuayana\n",
      "Processing Record for yeppoon\n",
      "Processing Record for barra do corda\n",
      "Processing Record for marsabit\n",
      "Processing Record for champerico\n",
      "Processing Record for kemijarvi\n",
      "Processing Record for seymchan\n",
      "Processing Record for amga\n",
      "Processing Record for almeirim\n",
      "Processing Record for belmonte\n",
      "Processing Record for nalut\n",
      "Processing Record for ayia galini\n",
      "Processing Record for chilliwack\n",
      "Processing Record for lillooet\n",
      "Processing Record for kathu\n",
      "City not valid/found\n",
      "Processing Record for algiers\n",
      "Processing Record for feijo\n",
      "Processing Record for likhoslavl\n",
      "Processing Record for te anau\n",
      "Processing Record for la primavera\n",
      "Processing Record for ternate\n",
      "Processing Record for tilichiki\n",
      "Processing Record for tuburan\n",
      "Processing Record for ca mau\n",
      "Processing Record for plettenberg bay\n",
      "Processing Record for inirida\n",
      "Processing Record for pulandian\n",
      "Processing Record for arman\n",
      "Processing Record for turukhansk\n",
      "Processing Record for andenes\n",
      "City not valid/found\n",
      "Processing Record for chabahar\n",
      "Processing Record for magistralnyy\n",
      "Processing Record for lavrentiya\n",
      "Processing Record for buchanan\n",
      "Processing Record for macamic\n",
      "Processing Record for honningsvag\n",
      "Processing Record for solnechnyy\n",
      "Processing Record for akyab\n",
      "Processing Record for pitimbu\n",
      "Processing Record for odweyne\n",
      "Processing Record for lakhdenpokhya\n",
      "Processing Record for dombarovskiy\n",
      "Processing Record for tiznit\n",
      "Processing Record for takoradi\n",
      "Processing Record for clyde river\n",
      "Processing Record for bilma\n",
      "Processing Record for veraval\n",
      "Processing Record for tautira\n",
      "Processing Record for abay\n",
      "Processing Record for shubarkuduk\n",
      "Processing Record for verkhoyansk\n",
      "Processing Record for sur\n",
      "Processing Record for kolaras\n",
      "Processing Record for oyek\n",
      "Processing Record for mitu\n",
      "Processing Record for krasnoselkup\n",
      "Processing Record for great falls\n",
      "Processing Record for victor harbor\n",
      "Processing Record for brattleboro\n",
      "Processing Record for zyryanka\n",
      "Processing Record for port macquarie\n",
      "Processing Record for zhanakorgan\n",
      "Processing Record for jining\n",
      "Processing Record for marsa matruh\n",
      "Processing Record for gilbues\n",
      "Processing Record for kasongo-lunda\n",
      "Processing Record for enshi\n",
      "Processing Record for shangzhi\n",
      "Processing Record for urumqi\n",
      "Processing Record for guerrero negro\n",
      "Processing Record for zarate\n",
      "Processing Record for esmeraldas\n",
      "Processing Record for mao\n",
      "Processing Record for teutonia\n",
      "Processing Record for narasannapeta\n",
      "Processing Record for les cayes\n",
      "Processing Record for rantepao\n",
      "City not valid/found\n",
      "City not valid/found\n",
      "Processing Record for monrovia\n",
      "Processing Record for ati\n",
      "Processing Record for thessalon\n",
      "All cities processed\n"
     ]
    }
   ],
   "source": [
    "url = \"http://api.openweathermap.org/data/2.5/weather?units=Imperial&APPID=\"\n",
    "query_url = f\"{url}{weather_api_key}&q=\"\n",
    "print(query_url)\n",
    "\n",
    "city_name = []\n",
    "lat = []\n",
    "lng = []\n",
    "max_temp = []\n",
    "humidity = []\n",
    "cloudiness = []\n",
    "wind_speed = []\n",
    "country = []\n",
    "date = []\n",
    "\n",
    "for city in cities:\n",
    "    try:\n",
    "        weather_response = requests.get(query_url + city).json()\n",
    "        city_name.append(weather_response['name'])\n",
    "        lat.append(weather_response['coord']['lat'])\n",
    "        lng.append(weather_response['coord']['lon'])\n",
    "        max_temp.append(weather_response['main']['temp_max'])\n",
    "        humidity.append(weather_response['main']['humidity'])\n",
    "        cloudiness.append(weather_response['clouds']['all'])\n",
    "        wind_speed.append(weather_response['wind']['speed'])\n",
    "        country.append(weather_response['sys']['country'])\n",
    "        date.append(weather_response['dt'])\n",
    "        print(f\"Processing Record for {city}\")\n",
    "    except KeyError:\n",
    "        print(\"City not valid/found\")\n",
    "print(\"All cities processed\")"
   ]
  },
  {
   "cell_type": "markdown",
   "metadata": {},
   "source": [
    "### Convert Raw Data to DataFrame\n",
    "* Export the city data into a .csv.\n",
    "* Display the DataFrame"
   ]
  },
  {
   "cell_type": "code",
   "execution_count": 9,
   "metadata": {},
   "outputs": [],
   "source": [
    "weather_dict = {\n",
    "    \"City\":city_name,\n",
    "    \"Lat\":lat,\n",
    "    \"Lng\":lng,\n",
    "    \"Max Temp\":max_temp,\n",
    "    \"Humidity\":humidity,\n",
    "    \"Cloudiness\":cloudiness,\n",
    "    \"Wind Speed\":wind_speed,\n",
    "    \"Country\":country,\n",
    "    \"Date\":date\n",
    "}"
   ]
  },
  {
   "cell_type": "code",
   "execution_count": 31,
   "metadata": {},
   "outputs": [
    {
     "data": {
      "text/html": [
       "<div>\n",
       "<style scoped>\n",
       "    .dataframe tbody tr th:only-of-type {\n",
       "        vertical-align: middle;\n",
       "    }\n",
       "\n",
       "    .dataframe tbody tr th {\n",
       "        vertical-align: top;\n",
       "    }\n",
       "\n",
       "    .dataframe thead th {\n",
       "        text-align: right;\n",
       "    }\n",
       "</style>\n",
       "<table border=\"1\" class=\"dataframe\">\n",
       "  <thead>\n",
       "    <tr style=\"text-align: right;\">\n",
       "      <th></th>\n",
       "      <th>City</th>\n",
       "      <th>Lat</th>\n",
       "      <th>Lng</th>\n",
       "      <th>Max Temp</th>\n",
       "      <th>Humidity</th>\n",
       "      <th>Cloudiness</th>\n",
       "      <th>Wind Speed</th>\n",
       "      <th>Country</th>\n",
       "      <th>Date</th>\n",
       "    </tr>\n",
       "  </thead>\n",
       "  <tbody>\n",
       "    <tr>\n",
       "      <th>0</th>\n",
       "      <td>Arraial do Cabo</td>\n",
       "      <td>-22.9661</td>\n",
       "      <td>-42.0278</td>\n",
       "      <td>69.40</td>\n",
       "      <td>76</td>\n",
       "      <td>0</td>\n",
       "      <td>24.00</td>\n",
       "      <td>BR</td>\n",
       "      <td>1627182556</td>\n",
       "    </tr>\n",
       "    <tr>\n",
       "      <th>1</th>\n",
       "      <td>Moyo</td>\n",
       "      <td>3.6609</td>\n",
       "      <td>31.7247</td>\n",
       "      <td>62.60</td>\n",
       "      <td>94</td>\n",
       "      <td>99</td>\n",
       "      <td>2.35</td>\n",
       "      <td>UG</td>\n",
       "      <td>1627182556</td>\n",
       "    </tr>\n",
       "    <tr>\n",
       "      <th>2</th>\n",
       "      <td>Dhidhdhoo</td>\n",
       "      <td>6.8833</td>\n",
       "      <td>73.1000</td>\n",
       "      <td>78.17</td>\n",
       "      <td>92</td>\n",
       "      <td>100</td>\n",
       "      <td>24.83</td>\n",
       "      <td>MV</td>\n",
       "      <td>1627182557</td>\n",
       "    </tr>\n",
       "    <tr>\n",
       "      <th>3</th>\n",
       "      <td>Banyo</td>\n",
       "      <td>6.7500</td>\n",
       "      <td>11.8167</td>\n",
       "      <td>64.15</td>\n",
       "      <td>97</td>\n",
       "      <td>91</td>\n",
       "      <td>2.33</td>\n",
       "      <td>CM</td>\n",
       "      <td>1627182557</td>\n",
       "    </tr>\n",
       "    <tr>\n",
       "      <th>4</th>\n",
       "      <td>Upernavik</td>\n",
       "      <td>72.7868</td>\n",
       "      <td>-56.1549</td>\n",
       "      <td>39.13</td>\n",
       "      <td>86</td>\n",
       "      <td>8</td>\n",
       "      <td>2.33</td>\n",
       "      <td>GL</td>\n",
       "      <td>1627182557</td>\n",
       "    </tr>\n",
       "  </tbody>\n",
       "</table>\n",
       "</div>"
      ],
      "text/plain": [
       "              City      Lat      Lng  Max Temp  Humidity  Cloudiness  \\\n",
       "0  Arraial do Cabo -22.9661 -42.0278     69.40        76           0   \n",
       "1             Moyo   3.6609  31.7247     62.60        94          99   \n",
       "2        Dhidhdhoo   6.8833  73.1000     78.17        92         100   \n",
       "3            Banyo   6.7500  11.8167     64.15        97          91   \n",
       "4        Upernavik  72.7868 -56.1549     39.13        86           8   \n",
       "\n",
       "   Wind Speed Country        Date  \n",
       "0       24.00      BR  1627182556  \n",
       "1        2.35      UG  1627182556  \n",
       "2       24.83      MV  1627182557  \n",
       "3        2.33      CM  1627182557  \n",
       "4        2.33      GL  1627182557  "
      ]
     },
     "execution_count": 31,
     "metadata": {},
     "output_type": "execute_result"
    }
   ],
   "source": [
    "#Display the DataFrame\n",
    "weather_df = pd.DataFrame(weather_dict)\n",
    "weather_df.head()"
   ]
  },
  {
   "cell_type": "code",
   "execution_count": 32,
   "metadata": {},
   "outputs": [],
   "source": [
    "#Export the city data into a .csv.\n",
    "weather_df.to_csv(output_data_file)"
   ]
  },
  {
   "cell_type": "markdown",
   "metadata": {},
   "source": [
    "## Inspect the data and remove the cities where the humidity > 100%.\n",
    "----\n",
    "Skip this step if there are no cities that have humidity > 100%. "
   ]
  },
  {
   "cell_type": "code",
   "execution_count": 33,
   "metadata": {},
   "outputs": [],
   "source": [
    "weather_df.drop(weather_df[weather_df['Humidity'] > 100].index, inplace = True)"
   ]
  },
  {
   "cell_type": "code",
   "execution_count": 34,
   "metadata": {},
   "outputs": [],
   "source": [
    "#  Get the indices of cities that have humidity over 100%.\n",
    "very_humid_city = weather_df.loc[weather_df['Humidity'] > 100]\n",
    "#No cities have over >100 humidity"
   ]
  },
  {
   "cell_type": "code",
   "execution_count": 35,
   "metadata": {},
   "outputs": [],
   "source": [
    "# Make a new DataFrame equal to the city data to drop all humidity outliers by index.\n",
    "# Passing \"inplace=False\" will make a copy of the city_data DataFrame, which we call \"clean_city_data\"."
   ]
  },
  {
   "cell_type": "markdown",
   "metadata": {},
   "source": [
    "## Plotting the Data\n",
    "* Use proper labeling of the plots using plot titles (including date of analysis) and axes labels.\n",
    "* Save the plotted figures as .pngs."
   ]
  },
  {
   "cell_type": "markdown",
   "metadata": {},
   "source": [
    "## Latitude vs. Temperature Plot"
   ]
  },
  {
   "cell_type": "code",
   "execution_count": 36,
   "metadata": {
    "scrolled": true
   },
   "outputs": [
    {
     "data": {
      "image/png": "[encoded data removed]",
      "text/plain": [
       "<Figure size 432x288 with 1 Axes>"
      ]
     },
     "metadata": {
      "needs_background": "light"
     },
     "output_type": "display_data"
    }
   ],
   "source": [
    "plt.scatter(weather_df[\"Lat\"],weather_df[\"Max Temp\"])\n",
    "plt.title(\"City Latitude vs. Max Temperature (07/24/2021)\")\n",
    "plt.xlabel(\"Latitude\")\n",
    "plt.ylabel(\"Max Temperature (F)\")\n",
    "plt.grid(color=\"black\")\n",
    "plt.savefig(\"Figures/lat_and_temp_plot.png\")\n",
    "plt.show()"
   ]
  },
  {
   "cell_type": "markdown",
   "metadata": {},
   "source": [
    "## Latitude vs. Humidity Plot"
   ]
  },
  {
   "cell_type": "code",
   "execution_count": 37,
   "metadata": {},
   "outputs": [
    {
     "data": {
      "image/png": "[encoded data removed]",
      "text/plain": [
       "<Figure size 432x288 with 1 Axes>"
      ]
     },
     "metadata": {
      "needs_background": "light"
     },
     "output_type": "display_data"
    }
   ],
   "source": [
    "plt.scatter(weather_df[\"Lat\"],weather_df[\"Humidity\"])\n",
    "plt.title(\"City Latitude vs. Humidity (07/24/2021)\")\n",
    "plt.xlabel(\"Latitude\")\n",
    "plt.ylabel(\"Humidity (%)\")\n",
    "plt.grid(color=\"black\")\n",
    "plt.savefig(\"Figures/lat_and_humidity_plot.png\")\n",
    "plt.show()"
   ]
  },
  {
   "cell_type": "markdown",
   "metadata": {},
   "source": [
    "## Latitude vs. Cloudiness Plot"
   ]
  },
  {
   "cell_type": "code",
   "execution_count": 38,
   "metadata": {},
   "outputs": [
    {
     "data": {
      "image/png": "[encoded data removed]",
      "text/plain": [
       "<Figure size 432x288 with 1 Axes>"
      ]
     },
     "metadata": {
      "needs_background": "light"
     },
     "output_type": "display_data"
    }
   ],
   "source": [
    "plt.scatter(weather_df[\"Lat\"],weather_df[\"Cloudiness\"])\n",
    "plt.title(\"City Latitude vs. Cloudiness (07/24/2021)\")\n",
    "plt.xlabel(\"Latitude\")\n",
    "plt.ylabel(\"Cloudiness (%)\")\n",
    "plt.grid (color=\"black\")\n",
    "plt.savefig(\"Figures/lat_and_cloud_plot.png\")\n",
    "plt.show()"
   ]
  },
  {
   "cell_type": "markdown",
   "metadata": {},
   "source": [
    "## Latitude vs. Wind Speed Plot"
   ]
  },
  {
   "cell_type": "code",
   "execution_count": 39,
   "metadata": {},
   "outputs": [
    {
     "data": {
      "image/png": "[encoded data removed]",
      "text/plain": [
       "<Figure size 432x288 with 1 Axes>"
      ]
     },
     "metadata": {
      "needs_background": "light"
     },
     "output_type": "display_data"
    }
   ],
   "source": [
    "plt.scatter(weather_df[\"Lat\"],weather_df[\"Wind Speed\"])\n",
    "plt.title(\"City Latitude vs. Wind Speed (07/24/2021)\")\n",
    "plt.xlabel(\"Latitude\")\n",
    "plt.ylabel(\"Wind Speed (mph)\")\n",
    "plt.grid (color=\"black\")\n",
    "plt.savefig(\"Figures/lat_and_wind_plot.png\")\n",
    "plt.show()"
   ]
  },
  {
   "cell_type": "markdown",
   "metadata": {},
   "source": [
    "## Linear Regression"
   ]
  },
  {
   "cell_type": "code",
   "execution_count": 99,
   "metadata": {},
   "outputs": [
    {
     "data": {
      "text/html": [
       "<div>\n",
       "<style scoped>\n",
       "    .dataframe tbody tr th:only-of-type {\n",
       "        vertical-align: middle;\n",
       "    }\n",
       "\n",
       "    .dataframe tbody tr th {\n",
       "        vertical-align: top;\n",
       "    }\n",
       "\n",
       "    .dataframe thead th {\n",
       "        text-align: right;\n",
       "    }\n",
       "</style>\n",
       "<table border=\"1\" class=\"dataframe\">\n",
       "  <thead>\n",
       "    <tr style=\"text-align: right;\">\n",
       "      <th></th>\n",
       "      <th>City</th>\n",
       "      <th>Lat</th>\n",
       "      <th>Lng</th>\n",
       "      <th>Max Temp</th>\n",
       "      <th>Humidity</th>\n",
       "      <th>Cloudiness</th>\n",
       "      <th>Wind Speed</th>\n",
       "      <th>Country</th>\n",
       "      <th>Date</th>\n",
       "    </tr>\n",
       "  </thead>\n",
       "  <tbody>\n",
       "    <tr>\n",
       "      <th>1</th>\n",
       "      <td>Moyo</td>\n",
       "      <td>3.6609</td>\n",
       "      <td>31.7247</td>\n",
       "      <td>62.60</td>\n",
       "      <td>94</td>\n",
       "      <td>99</td>\n",
       "      <td>2.35</td>\n",
       "      <td>UG</td>\n",
       "      <td>1627182556</td>\n",
       "    </tr>\n",
       "    <tr>\n",
       "      <th>2</th>\n",
       "      <td>Dhidhdhoo</td>\n",
       "      <td>6.8833</td>\n",
       "      <td>73.1000</td>\n",
       "      <td>78.17</td>\n",
       "      <td>92</td>\n",
       "      <td>100</td>\n",
       "      <td>24.83</td>\n",
       "      <td>MV</td>\n",
       "      <td>1627182557</td>\n",
       "    </tr>\n",
       "    <tr>\n",
       "      <th>3</th>\n",
       "      <td>Banyo</td>\n",
       "      <td>6.7500</td>\n",
       "      <td>11.8167</td>\n",
       "      <td>64.15</td>\n",
       "      <td>97</td>\n",
       "      <td>91</td>\n",
       "      <td>2.33</td>\n",
       "      <td>CM</td>\n",
       "      <td>1627182557</td>\n",
       "    </tr>\n",
       "    <tr>\n",
       "      <th>4</th>\n",
       "      <td>Upernavik</td>\n",
       "      <td>72.7868</td>\n",
       "      <td>-56.1549</td>\n",
       "      <td>39.13</td>\n",
       "      <td>86</td>\n",
       "      <td>8</td>\n",
       "      <td>2.33</td>\n",
       "      <td>GL</td>\n",
       "      <td>1627182557</td>\n",
       "    </tr>\n",
       "    <tr>\n",
       "      <th>7</th>\n",
       "      <td>Longyearbyen</td>\n",
       "      <td>78.2186</td>\n",
       "      <td>15.6401</td>\n",
       "      <td>42.64</td>\n",
       "      <td>87</td>\n",
       "      <td>75</td>\n",
       "      <td>11.50</td>\n",
       "      <td>SJ</td>\n",
       "      <td>1627182558</td>\n",
       "    </tr>\n",
       "    <tr>\n",
       "      <th>...</th>\n",
       "      <td>...</td>\n",
       "      <td>...</td>\n",
       "      <td>...</td>\n",
       "      <td>...</td>\n",
       "      <td>...</td>\n",
       "      <td>...</td>\n",
       "      <td>...</td>\n",
       "      <td>...</td>\n",
       "      <td>...</td>\n",
       "    </tr>\n",
       "    <tr>\n",
       "      <th>569</th>\n",
       "      <td>Narasannapeta</td>\n",
       "      <td>18.4167</td>\n",
       "      <td>84.0500</td>\n",
       "      <td>86.40</td>\n",
       "      <td>66</td>\n",
       "      <td>100</td>\n",
       "      <td>5.01</td>\n",
       "      <td>IN</td>\n",
       "      <td>1627182684</td>\n",
       "    </tr>\n",
       "    <tr>\n",
       "      <th>570</th>\n",
       "      <td>Les Cayes</td>\n",
       "      <td>18.2000</td>\n",
       "      <td>-73.7500</td>\n",
       "      <td>78.80</td>\n",
       "      <td>86</td>\n",
       "      <td>99</td>\n",
       "      <td>2.93</td>\n",
       "      <td>HT</td>\n",
       "      <td>1627182684</td>\n",
       "    </tr>\n",
       "    <tr>\n",
       "      <th>572</th>\n",
       "      <td>Monrovia</td>\n",
       "      <td>6.3005</td>\n",
       "      <td>-10.7969</td>\n",
       "      <td>76.51</td>\n",
       "      <td>77</td>\n",
       "      <td>100</td>\n",
       "      <td>8.21</td>\n",
       "      <td>LR</td>\n",
       "      <td>1627182685</td>\n",
       "    </tr>\n",
       "    <tr>\n",
       "      <th>573</th>\n",
       "      <td>Ati</td>\n",
       "      <td>13.2154</td>\n",
       "      <td>18.3353</td>\n",
       "      <td>84.04</td>\n",
       "      <td>59</td>\n",
       "      <td>100</td>\n",
       "      <td>9.62</td>\n",
       "      <td>TD</td>\n",
       "      <td>1627182685</td>\n",
       "    </tr>\n",
       "    <tr>\n",
       "      <th>574</th>\n",
       "      <td>Thessalon</td>\n",
       "      <td>46.2501</td>\n",
       "      <td>-83.5666</td>\n",
       "      <td>70.56</td>\n",
       "      <td>92</td>\n",
       "      <td>0</td>\n",
       "      <td>12.84</td>\n",
       "      <td>CA</td>\n",
       "      <td>1627182685</td>\n",
       "    </tr>\n",
       "  </tbody>\n",
       "</table>\n",
       "<p>385 rows × 9 columns</p>\n",
       "</div>"
      ],
      "text/plain": [
       "              City      Lat      Lng  Max Temp  Humidity  Cloudiness  \\\n",
       "1             Moyo   3.6609  31.7247     62.60        94          99   \n",
       "2        Dhidhdhoo   6.8833  73.1000     78.17        92         100   \n",
       "3            Banyo   6.7500  11.8167     64.15        97          91   \n",
       "4        Upernavik  72.7868 -56.1549     39.13        86           8   \n",
       "7     Longyearbyen  78.2186  15.6401     42.64        87          75   \n",
       "..             ...      ...      ...       ...       ...         ...   \n",
       "569  Narasannapeta  18.4167  84.0500     86.40        66         100   \n",
       "570      Les Cayes  18.2000 -73.7500     78.80        86          99   \n",
       "572       Monrovia   6.3005 -10.7969     76.51        77         100   \n",
       "573            Ati  13.2154  18.3353     84.04        59         100   \n",
       "574      Thessalon  46.2501 -83.5666     70.56        92           0   \n",
       "\n",
       "     Wind Speed Country        Date  \n",
       "1          2.35      UG  1627182556  \n",
       "2         24.83      MV  1627182557  \n",
       "3          2.33      CM  1627182557  \n",
       "4          2.33      GL  1627182557  \n",
       "7         11.50      SJ  1627182558  \n",
       "..          ...     ...         ...  \n",
       "569        5.01      IN  1627182684  \n",
       "570        2.93      HT  1627182684  \n",
       "572        8.21      LR  1627182685  \n",
       "573        9.62      TD  1627182685  \n",
       "574       12.84      CA  1627182685  \n",
       "\n",
       "[385 rows x 9 columns]"
      ]
     },
     "execution_count": 99,
     "metadata": {},
     "output_type": "execute_result"
    }
   ],
   "source": [
    "weather_df[weather_df['Lat'] >=0]"
   ]
  },
  {
   "cell_type": "markdown",
   "metadata": {},
   "source": [
    "####  Northern Hemisphere - Max Temp vs. Latitude Linear Regression"
   ]
  },
  {
   "cell_type": "code",
   "execution_count": 101,
   "metadata": {},
   "outputs": [],
   "source": [
    "north_hem = weather_df[weather_df['Lat'] >=0]"
   ]
  },
  {
   "cell_type": "code",
   "execution_count": 103,
   "metadata": {},
   "outputs": [
    {
     "name": "stdout",
     "output_type": "stream",
     "text": [
      "The r-value is: 0.054827288234775784\n"
     ]
    },
    {
     "data": {
      "image/png": "[encoded data removed]",
      "text/plain": [
       "<Figure size 432x288 with 1 Axes>"
      ]
     },
     "metadata": {
      "needs_background": "light"
     },
     "output_type": "display_data"
    }
   ],
   "source": [
    "# print(f\"The r-value is: {rvalue}\")         \n",
    "# x_values = weather_df['Lat']\n",
    "# y_values = weather_df[\"Max Temp\"]\n",
    "# (slope, intercept,rvalue, pvalue, stderr) = linregress(weather_df['Lat'],weather_df[\"Max Temp\"])\n",
    "# regress_values = weather_df['Lat']* slope + intercept\n",
    "# line_eq= f\"y = {round(slope, 2)} x + {round(intercept, 2)}\"\n",
    "plt.scatter(weather_df[\"Lat\"],weather_df[\"Max Temp\"],color='b')\n",
    "plt.plot(weather_df[\"Lat\"], regress_values, color='red')\n",
    "plt.annotate(line_eq,(-10,30), fontsize=14, color=\"red\",fontweight='bold')\n",
    "plt.xlabel(\"Latitude\")\n",
    "plt.ylabel(\"Max Temp\")\n",
    "plt.show()"
   ]
  },
  {
   "cell_type": "markdown",
   "metadata": {},
   "source": [
    "####  Southern Hemisphere - Max Temp vs. Latitude Linear Regression"
   ]
  },
  {
   "cell_type": "code",
   "execution_count": 108,
   "metadata": {},
   "outputs": [
    {
     "data": {
      "image/png": "[encoded data removed]",
      "text/plain": [
       "<Figure size 432x288 with 1 Axes>"
      ]
     },
     "metadata": {
      "needs_background": "light"
     },
     "output_type": "display_data"
    }
   ],
   "source": [
    "# print(f\"The r-value is: {rvalue}\")         \n",
    "# x_values = weather_df['Lat']\n",
    "# y_values = weather_df[\"Max Temp\"]\n",
    "# (slope, intercept,rvalue, pvalue, stderr) = linregress(weather_df['Lat'],weather_df[\"Max Temp\"])\n",
    "# regress_values = weather_df['Lat']* slope + intercept\n",
    "# line_eq= f\"y = {round(slope, 2)} x + {round(intercept, 2)}\"\n",
    "plt.scatter(weather_df[\"Lat\"],weather_df[\"Max Temp\"],color='b')\n",
    "plt.plot(weather_df[\"Lat\"], regress_values, color='red')\n",
    "plt.annotate(line_eq,(-10,30), fontsize=14, color=\"red\",fontweight='bold')\n",
    "plt.xlabel(\"Latitude\")\n",
    "plt.ylabel(\"Max Temp\")\n",
    "plt.show()"
   ]
  },
  {
   "cell_type": "markdown",
   "metadata": {},
   "source": [
    "####  Northern Hemisphere - Humidity (%) vs. Latitude Linear Regression"
   ]
  },
  {
   "cell_type": "code",
   "execution_count": 109,
   "metadata": {},
   "outputs": [
    {
     "data": {
      "image/png": "[encoded data removed]",
      "text/plain": [
       "<Figure size 432x288 with 1 Axes>"
      ]
     },
     "metadata": {
      "needs_background": "light"
     },
     "output_type": "display_data"
    }
   ],
   "source": [
    "# print(f\"The r-value is: {rvalue}\")         \n",
    "# x_values = weather_df['Lat']\n",
    "# y_values = weather_df[\"Max Temp\"]\n",
    "# (slope, intercept,rvalue, pvalue, stderr) = linregress(weather_df['Lat'],weather_df[\"Max Temp\"])\n",
    "# regress_values = weather_df['Lat']* slope + intercept\n",
    "# line_eq= f\"y = {round(slope, 2)} x + {round(intercept, 2)}\"\n",
    "plt.scatter(weather_df[\"Lat\"],weather_df[\"Humidity\"],color='b')\n",
    "plt.plot(weather_df[\"Lat\"], regress_values, color='red')\n",
    "plt.annotate(line_eq,(-10,30), fontsize=14, color=\"red\",fontweight='bold')\n",
    "plt.xlabel(\"Latitude\")\n",
    "plt.ylabel(\"Humidity\")\n",
    "plt.show()"
   ]
  },
  {
   "cell_type": "markdown",
   "metadata": {},
   "source": [
    "####  Southern Hemisphere - Humidity (%) vs. Latitude Linear Regression"
   ]
  },
  {
   "cell_type": "code",
   "execution_count": 110,
   "metadata": {},
   "outputs": [
    {
     "data": {
      "image/png": "[encoded data removed]",
      "text/plain": [
       "<Figure size 432x288 with 1 Axes>"
      ]
     },
     "metadata": {
      "needs_background": "light"
     },
     "output_type": "display_data"
    }
   ],
   "source": [
    "# print(f\"The r-value is: {rvalue}\")         \n",
    "# x_values = weather_df['Lat']\n",
    "# y_values = weather_df[\"Max Temp\"]\n",
    "# (slope, intercept,rvalue, pvalue, stderr) = linregress(weather_df['Lat'],weather_df[\"Max Temp\"])\n",
    "# regress_values = weather_df['Lat']* slope + intercept\n",
    "# line_eq= f\"y = {round(slope, 2)} x + {round(intercept, 2)}\"\n",
    "plt.scatter(weather_df[\"Lat\"],weather_df[\"Humidity\"],color='b')\n",
    "plt.plot(weather_df[\"Lat\"], regress_values, color='red')\n",
    "plt.annotate(line_eq,(-10,30), fontsize=14, color=\"red\",fontweight='bold')\n",
    "plt.xlabel(\"Latitude\")\n",
    "plt.ylabel(\"Humidity\")\n",
    "plt.show()"
   ]
  },
  {
   "cell_type": "markdown",
   "metadata": {},
   "source": [
    "####  Northern Hemisphere - Cloudiness (%) vs. Latitude Linear Regression"
   ]
  },
  {
   "cell_type": "code",
   "execution_count": 111,
   "metadata": {},
   "outputs": [
    {
     "data": {
      "image/png": "[encoded data removed]",
      "text/plain": [
       "<Figure size 432x288 with 1 Axes>"
      ]
     },
     "metadata": {
      "needs_background": "light"
     },
     "output_type": "display_data"
    }
   ],
   "source": [
    "# print(f\"The r-value is: {rvalue}\")         \n",
    "# x_values = weather_df['Lat']\n",
    "# y_values = weather_df[\"Max Temp\"]\n",
    "# (slope, intercept,rvalue, pvalue, stderr) = linregress(weather_df['Lat'],weather_df[\"Max Temp\"])\n",
    "# regress_values = weather_df['Lat']* slope + intercept\n",
    "# line_eq= f\"y = {round(slope, 2)} x + {round(intercept, 2)}\"\n",
    "plt.scatter(weather_df[\"Lat\"],weather_df[\"Cloudiness\"],color='b')\n",
    "plt.plot(weather_df[\"Lat\"], regress_values, color='red')\n",
    "plt.annotate(line_eq,(-10,30), fontsize=14, color=\"red\",fontweight='bold')\n",
    "plt.xlabel(\"Latitude\")\n",
    "plt.ylabel(\"Humidity\")\n",
    "plt.show()"
   ]
  },
  {
   "cell_type": "markdown",
   "metadata": {},
   "source": [
    "####  Southern Hemisphere - Cloudiness (%) vs. Latitude Linear Regression"
   ]
  },
  {
   "cell_type": "code",
   "execution_count": 112,
   "metadata": {},
   "outputs": [
    {
     "data": {
      "image/png": "[encoded data removed]",
      "text/plain": [
       "<Figure size 432x288 with 1 Axes>"
      ]
     },
     "metadata": {
      "needs_background": "light"
     },
     "output_type": "display_data"
    }
   ],
   "source": [
    "# print(f\"The r-value is: {rvalue}\")         \n",
    "# x_values = weather_df['Lat']\n",
    "# y_values = weather_df[\"Max Temp\"]\n",
    "# (slope, intercept,rvalue, pvalue, stderr) = linregress(weather_df['Lat'],weather_df[\"Max Temp\"])\n",
    "# regress_values = weather_df['Lat']* slope + intercept\n",
    "# line_eq= f\"y = {round(slope, 2)} x + {round(intercept, 2)}\"\n",
    "plt.scatter(weather_df[\"Lat\"],weather_df[\"Cloudiness\"],color='b')\n",
    "plt.plot(weather_df[\"Lat\"], regress_values, color='red')\n",
    "plt.annotate(line_eq,(-10,30), fontsize=14, color=\"red\",fontweight='bold')\n",
    "plt.xlabel(\"Latitude\")\n",
    "plt.ylabel(\"Humidity\")\n",
    "plt.show()"
   ]
  },
  {
   "cell_type": "markdown",
   "metadata": {},
   "source": [
    "####  Northern Hemisphere - Wind Speed (mph) vs. Latitude Linear Regression"
   ]
  },
  {
   "cell_type": "code",
   "execution_count": 113,
   "metadata": {},
   "outputs": [
    {
     "data": {
      "image/png": "[encoded data removed]",
      "text/plain": [
       "<Figure size 432x288 with 1 Axes>"
      ]
     },
     "metadata": {
      "needs_background": "light"
     },
     "output_type": "display_data"
    }
   ],
   "source": [
    "# print(f\"The r-value is: {rvalue}\")         \n",
    "# x_values = weather_df['Lat']\n",
    "# y_values = weather_df[\"Max Temp\"]\n",
    "# (slope, intercept,rvalue, pvalue, stderr) = linregress(weather_df['Lat'],weather_df[\"Max Temp\"])\n",
    "# regress_values = weather_df['Lat']* slope + intercept\n",
    "# line_eq= f\"y = {round(slope, 2)} x + {round(intercept, 2)}\"\n",
    "plt.scatter(weather_df[\"Lat\"],weather_df[\"Wind Speed\"],color='b')\n",
    "plt.plot(weather_df[\"Lat\"], regress_values, color='red')\n",
    "plt.annotate(line_eq,(-10,30), fontsize=14, color=\"red\",fontweight='bold')\n",
    "plt.xlabel(\"Latitude\")\n",
    "plt.ylabel(\"Humidity\")\n",
    "plt.show()"
   ]
  },
  {
   "cell_type": "markdown",
   "metadata": {},
   "source": [
    "####  Southern Hemisphere - Wind Speed (mph) vs. Latitude Linear Regression"
   ]
  },
  {
   "cell_type": "code",
   "execution_count": 114,
   "metadata": {},
   "outputs": [
    {
     "data": {
      "image/png": "[encoded data removed]",
      "text/plain": [
       "<Figure size 432x288 with 1 Axes>"
      ]
     },
     "metadata": {
      "needs_background": "light"
     },
     "output_type": "display_data"
    }
   ],
   "source": [
    "# print(f\"The r-value is: {rvalue}\")         \n",
    "# x_values = weather_df['Lat']\n",
    "# y_values = weather_df[\"Max Temp\"]\n",
    "# (slope, intercept,rvalue, pvalue, stderr) = linregress(weather_df['Lat'],weather_df[\"Max Temp\"])\n",
    "# regress_values = weather_df['Lat']* slope + intercept\n",
    "# line_eq= f\"y = {round(slope, 2)} x + {round(intercept, 2)}\"\n",
    "plt.scatter(weather_df[\"Lat\"],weather_df[\"Wind Speed\"],color='b')\n",
    "plt.plot(weather_df[\"Lat\"], regress_values, color='red')\n",
    "plt.annotate(line_eq,(-10,30), fontsize=14, color=\"red\",fontweight='bold')\n",
    "plt.xlabel(\"Latitude\")\n",
    "plt.ylabel(\"Humidity\")\n",
    "plt.show()"
   ]
  },
  {
   "cell_type": "code",
   "execution_count": null,
   "metadata": {},
   "outputs": [],
   "source": []
  }
 ],
 "metadata": {
  "anaconda-cloud": {},
  "kernel_info": {
   "name": "python3"
  },
  "kernelspec": {
   "display_name": "Python 3",
   "language": "python",
   "name": "python3"
  },
  "language_info": {
   "codemirror_mode": {
    "name": "ipython",
    "version": 3
   },
   "file_extension": ".py",
   "mimetype": "text/x-python",
   "name": "python",
   "nbconvert_exporter": "python",
   "pygments_lexer": "ipython3",
   "version": "3.7.10"
  },
  "latex_envs": {
   "LaTeX_envs_menu_present": true,
   "autoclose": false,
   "autocomplete": true,
   "bibliofile": "biblio.bib",
   "cite_by": "apalike",
   "current_citInitial": 1,
   "eqLabelWithNumbers": true,
   "eqNumInitial": 1,
   "hotkeys": {
    "equation": "Ctrl-E",
    "itemize": "Ctrl-I"
   },
   "labels_anchors": false,
   "latex_user_defs": false,
   "report_style_numbering": false,
   "user_envs_cfg": false
  },
  "nteract": {
   "version": "0.12.3"
  }
 },
 "nbformat": 4,
 "nbformat_minor": 4
}
