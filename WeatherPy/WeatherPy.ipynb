{
 "cells": [
  {
   "cell_type": "markdown",
   "metadata": {},
   "source": [
    "# WeatherPy\n",
    "----\n",
    "\n",
    "#### Note\n",
    "* Instructions have been included for each segment. You do not have to follow them exactly, but they are included to help you think through the steps."
   ]
  },
  {
   "cell_type": "code",
   "execution_count": 62,
   "metadata": {
    "scrolled": true
   },
   "outputs": [],
   "source": [
    "# Dependencies and Setup\n",
    "import matplotlib.pyplot as plt\n",
    "import pandas as pd\n",
    "import numpy as np\n",
    "import requests\n",
    "import time\n",
    "from scipy.stats import linregress\n",
    "import scipy.stats as st\n",
    "from pprint import pprint\n",
    "\n",
    "# Import API key\n",
    "from api_keys import weather_api_key\n",
    "\n",
    "# Incorporated citipy to determine city based on latitude and longitude\n",
    "from citipy import citipy\n",
    "\n",
    "# Output File (CSV)\n",
    "output_data_file = \"../output_data/cities.csv\"\n",
    "\n",
    "# Range of latitudes and longitudes\n",
    "lat_range = (-90, 90)\n",
    "lng_range = (-180, 180)"
   ]
  },
  {
   "cell_type": "markdown",
   "metadata": {},
   "source": [
    "## Generate Cities List"
   ]
  },
  {
   "cell_type": "code",
   "execution_count": 33,
   "metadata": {},
   "outputs": [
    {
     "data": {
      "text/plain": [
       "618"
      ]
     },
     "execution_count": 33,
     "metadata": {},
     "output_type": "execute_result"
    }
   ],
   "source": [
    "# List for holding lat_lngs and cities\n",
    "lat_lngs = []\n",
    "cities = []\n",
    "\n",
    "# Create a set of random lat and lng combinations\n",
    "lats = np.random.uniform(lat_range[0], lat_range[1], size=1500)\n",
    "lngs = np.random.uniform(lng_range[0], lng_range[1], size=1500)\n",
    "lat_lngs = zip(lats, lngs)\n",
    "\n",
    "# Identify nearest city for each lat, lng combination\n",
    "for lat_lng in lat_lngs:\n",
    "    city = citipy.nearest_city(lat_lng[0], lat_lng[1]).city_name\n",
    "    \n",
    "    # If the city is unique, then add it to a our cities list\n",
    "    if city not in cities:\n",
    "        cities.append(city)\n",
    "\n",
    "# Print the city count to confirm sufficient count\n",
    "len(cities)"
   ]
  },
  {
   "cell_type": "markdown",
   "metadata": {},
   "source": [
    "### Perform API Calls\n",
    "* Perform a weather check on each city using a series of successive API calls.\n",
    "* Include a print log of each city as it'sbeing processed (with the city number and city name).\n"
   ]
  },
  {
   "cell_type": "code",
   "execution_count": 34,
   "metadata": {
    "scrolled": true
   },
   "outputs": [
    {
     "name": "stdout",
     "output_type": "stream",
     "text": [
      "http://api.openweathermap.org/data/2.5/weather?units=Imperial&APPID=2d2efa2a8b32e43a0906b5af9748e29e&q=\n",
      "Processing Record for hwange\n",
      "Processing Record for tamuin\n",
      "Processing Record for dayong\n",
      "Processing Record for ushuaia\n",
      "Processing Record for saint-louis\n",
      "Processing Record for souillac\n",
      "Processing Record for lincoln\n",
      "Processing Record for hobart\n",
      "Processing Record for pitimbu\n",
      "Processing Record for devgarh\n",
      "Processing Record for rikitea\n",
      "Processing Record for hilo\n",
      "Processing Record for price\n",
      "City not valid/found\n",
      "Processing Record for qaanaaq\n",
      "Processing Record for sao filipe\n",
      "Processing Record for sao joao da barra\n",
      "Processing Record for bahia de caraquez\n",
      "Processing Record for muisne\n",
      "Processing Record for nouadhibou\n",
      "Processing Record for thiene\n",
      "Processing Record for mount gambier\n",
      "Processing Record for kapaa\n",
      "Processing Record for sitka\n",
      "Processing Record for hithadhoo\n",
      "Processing Record for punta arenas\n",
      "Processing Record for iskilip\n",
      "Processing Record for east london\n",
      "Processing Record for baran\n",
      "Processing Record for jamestown\n",
      "Processing Record for chuy\n",
      "City not valid/found\n",
      "City not valid/found\n",
      "Processing Record for hermanus\n",
      "Processing Record for lufilufi\n",
      "Processing Record for albany\n",
      "Processing Record for dyersburg\n",
      "Processing Record for butaritari\n",
      "City not valid/found\n",
      "Processing Record for maraba\n",
      "Processing Record for kismayo\n",
      "Processing Record for mana\n",
      "Processing Record for barrow\n",
      "Processing Record for maykor\n",
      "Processing Record for port alfred\n",
      "Processing Record for kodiak\n",
      "Processing Record for kodino\n",
      "Processing Record for hasaki\n",
      "Processing Record for san cristobal\n",
      "Processing Record for ilulissat\n",
      "Processing Record for dalby\n",
      "Processing Record for avarua\n",
      "Processing Record for margate\n",
      "Processing Record for bracknell\n",
      "Processing Record for port elizabeth\n",
      "Processing Record for mataura\n",
      "Processing Record for saskylakh\n",
      "Processing Record for busselton\n",
      "Processing Record for ust-kuyga\n",
      "Processing Record for khatanga\n",
      "Processing Record for orsta\n",
      "Processing Record for samana\n",
      "City not valid/found\n",
      "Processing Record for provideniya\n",
      "Processing Record for minudasht\n",
      "City not valid/found\n",
      "Processing Record for tiksi\n",
      "Processing Record for san quintin\n",
      "City not valid/found\n",
      "Processing Record for port lincoln\n",
      "Processing Record for hamilton\n",
      "Processing Record for nuqui\n",
      "Processing Record for saint-philippe\n",
      "Processing Record for gobabis\n",
      "Processing Record for naze\n",
      "Processing Record for namibe\n",
      "Processing Record for riyadh\n",
      "Processing Record for pontianak\n",
      "Processing Record for port-cartier\n",
      "Processing Record for bredasdorp\n",
      "Processing Record for launceston\n",
      "Processing Record for altay\n",
      "Processing Record for kuzino\n",
      "Processing Record for talnakh\n",
      "Processing Record for lazaro cardenas\n",
      "Processing Record for port keats\n",
      "Processing Record for yellowknife\n",
      "Processing Record for satun\n",
      "Processing Record for cape town\n",
      "Processing Record for atuona\n",
      "Processing Record for vestmannaeyjar\n",
      "Processing Record for sola\n",
      "City not valid/found\n",
      "Processing Record for new norfolk\n",
      "Processing Record for ponta do sol\n",
      "Processing Record for tuktoyaktuk\n",
      "Processing Record for kaitangata\n",
      "Processing Record for kherson\n",
      "Processing Record for lyubinskiy\n",
      "Processing Record for pangai\n",
      "Processing Record for lahij\n",
      "Processing Record for finspang\n",
      "Processing Record for fort saint james\n",
      "Processing Record for saint albans\n",
      "City not valid/found\n",
      "Processing Record for san patricio\n",
      "Processing Record for wajima\n",
      "Processing Record for olafsvik\n",
      "Processing Record for nikolskoye\n",
      "Processing Record for anadyr\n",
      "Processing Record for puerto ayora\n",
      "Processing Record for anjiang\n",
      "Processing Record for kayerkan\n",
      "City not valid/found\n",
      "Processing Record for uyar\n",
      "Processing Record for mani\n",
      "Processing Record for lower hutt\n",
      "City not valid/found\n",
      "City not valid/found\n",
      "Processing Record for bardiyah\n",
      "Processing Record for cherskiy\n",
      "Processing Record for makakilo city\n",
      "Processing Record for norman wells\n",
      "Processing Record for touros\n",
      "Processing Record for nenjiang\n",
      "Processing Record for flinders\n",
      "Processing Record for bambous virieux\n",
      "Processing Record for geraldton\n",
      "Processing Record for camden\n",
      "Processing Record for birin\n",
      "Processing Record for kedrovyy\n",
      "Processing Record for asau\n",
      "City not valid/found\n",
      "Processing Record for luderitz\n",
      "Processing Record for sioux lookout\n",
      "Processing Record for saint george\n",
      "Processing Record for puerto carreno\n",
      "Processing Record for saint-augustin\n",
      "Processing Record for chokurdakh\n",
      "Processing Record for abnub\n",
      "Processing Record for severo-kurilsk\n",
      "Processing Record for siocon\n",
      "Processing Record for oranjestad\n",
      "Processing Record for taoudenni\n",
      "Processing Record for zavyalovo\n",
      "Processing Record for georgetown\n",
      "Processing Record for priiskovyy\n",
      "Processing Record for huarmey\n",
      "Processing Record for sorland\n",
      "Processing Record for gambiran\n",
      "Processing Record for vila velha\n",
      "Processing Record for beringovskiy\n",
      "Processing Record for poum\n",
      "Processing Record for ust-omchug\n",
      "Processing Record for kollam\n",
      "Processing Record for aquiraz\n",
      "City not valid/found\n",
      "Processing Record for mount isa\n",
      "Processing Record for saint anthony\n",
      "Processing Record for sidi ali\n",
      "Processing Record for lompoc\n",
      "Processing Record for champerico\n",
      "Processing Record for airai\n",
      "Processing Record for barentu\n",
      "Processing Record for ostrovnoy\n",
      "Processing Record for cabo san lucas\n",
      "Processing Record for guanica\n",
      "Processing Record for bluff\n",
      "Processing Record for torbay\n",
      "Processing Record for upernavik\n",
      "Processing Record for faya\n",
      "Processing Record for ananas\n",
      "Processing Record for neumunster\n",
      "Processing Record for vaini\n",
      "City not valid/found\n",
      "Processing Record for bilopillya\n",
      "Processing Record for longyearbyen\n",
      "City not valid/found\n",
      "Processing Record for fare\n",
      "Processing Record for lavrentiya\n",
      "Processing Record for victoria\n",
      "Processing Record for pangnirtung\n",
      "Processing Record for vanimo\n",
      "Processing Record for mayskiy\n",
      "Processing Record for thunder bay\n",
      "City not valid/found\n",
      "Processing Record for bethel\n",
      "Processing Record for kieta\n",
      "Processing Record for izhma\n",
      "Processing Record for vao\n",
      "Processing Record for yartsevo\n",
      "Processing Record for fallon\n",
      "Processing Record for gizo\n",
      "Processing Record for khromtau\n",
      "Processing Record for agbor\n",
      "Processing Record for cayenne\n",
      "Processing Record for nuuk\n",
      "Processing Record for esperance\n",
      "Processing Record for victoria falls\n",
      "Processing Record for iguape\n",
      "Processing Record for mar del plata\n",
      "Processing Record for garmsar\n",
      "Processing Record for okhotsk\n",
      "Processing Record for nanchong\n",
      "Processing Record for lorengau\n",
      "Processing Record for katsuura\n",
      "Processing Record for ribeira grande\n",
      "Processing Record for tutoia\n",
      "Processing Record for rawson\n",
      "Processing Record for maldonado\n",
      "Processing Record for srednekolymsk\n",
      "Processing Record for kaniama\n",
      "Processing Record for bengkulu\n",
      "Processing Record for rocha\n",
      "Processing Record for kolpashevo\n",
      "Processing Record for los angeles\n",
      "Processing Record for tasiilaq\n",
      "Processing Record for vostok\n",
      "Processing Record for portland\n",
      "Processing Record for san ramon\n",
      "Processing Record for rosetta\n",
      "Processing Record for makat\n",
      "City not valid/found\n",
      "Processing Record for xingyi\n",
      "Processing Record for tautira\n",
      "Processing Record for krasnyy yar\n",
      "Processing Record for kununurra\n",
      "Processing Record for dosso\n",
      "Processing Record for santiago de cao\n",
      "Processing Record for la ronge\n",
      "Processing Record for aklavik\n",
      "Processing Record for armidale\n",
      "Processing Record for fortuna\n",
      "Processing Record for porto torres\n",
      "Processing Record for kahului\n",
      "Processing Record for grivenskaya\n",
      "Processing Record for tucuman\n",
      "Processing Record for sri aman\n",
      "Processing Record for ugoofaaru\n",
      "Processing Record for bauchi\n",
      "City not valid/found\n",
      "Processing Record for megion\n",
      "Processing Record for diebougou\n",
      "Processing Record for princeton\n",
      "Processing Record for marathon\n",
      "Processing Record for pangkalanbuun\n",
      "Processing Record for paamiut\n",
      "Processing Record for tadine\n",
      "City not valid/found\n",
      "Processing Record for ayan\n",
      "City not valid/found\n",
      "Processing Record for qaqortoq\n",
      "Processing Record for santa catarina de tepehuanes\n",
      "Processing Record for lagoa\n",
      "Processing Record for amos\n",
      "Processing Record for diapaga\n",
      "Processing Record for bonthe\n",
      "Processing Record for luwuk\n",
      "Processing Record for aksu\n",
      "Processing Record for les cayes\n",
      "City not valid/found\n",
      "Processing Record for krasnoturansk\n",
      "Processing Record for sabang\n",
      "Processing Record for rio gallegos\n",
      "Processing Record for marzuq\n",
      "Processing Record for qasigiannguit\n",
      "Processing Record for broken hill\n",
      "Processing Record for birao\n",
      "Processing Record for ancud\n",
      "Processing Record for rafai\n",
      "Processing Record for borogontsy\n",
      "Processing Record for kasulu\n",
      "Processing Record for ostersund\n",
      "Processing Record for codrington\n",
      "Processing Record for berbera\n",
      "Processing Record for san vicente\n",
      "City not valid/found\n",
      "City not valid/found\n",
      "Processing Record for lucapa\n",
      "Processing Record for homer\n",
      "Processing Record for teya\n",
      "Processing Record for cedar city\n",
      "Processing Record for caravelas\n",
      "Processing Record for araouane\n",
      "Processing Record for trairi\n",
      "Processing Record for narsaq\n",
      "Processing Record for khorixas\n",
      "Processing Record for poquoson\n",
      "Processing Record for arraial do cabo\n",
      "Processing Record for sungaipenuh\n",
      "Processing Record for madanapalle\n",
      "Processing Record for estelle\n",
      "Processing Record for praia da vitoria\n",
      "Processing Record for cape canaveral\n",
      "Processing Record for del rio\n",
      "Processing Record for gondanglegi\n",
      "Processing Record for kaeo\n",
      "City not valid/found\n",
      "Processing Record for biak\n",
      "Processing Record for amga\n",
      "Processing Record for novo cruzeiro\n",
      "Processing Record for aykhal\n",
      "Processing Record for stornoway\n",
      "Processing Record for cidreira\n",
      "Processing Record for arlit\n",
      "Processing Record for puerto escondido\n",
      "Processing Record for castro\n",
      "Processing Record for ewa beach\n",
      "Processing Record for punta alta\n",
      "Processing Record for kichera\n",
      "Processing Record for tigil\n",
      "Processing Record for suntar\n",
      "Processing Record for curup\n",
      "Processing Record for gorontalo\n",
      "Processing Record for cocobeach\n",
      "Processing Record for pevek\n",
      "Processing Record for toora-khem\n",
      "Processing Record for missao velha\n",
      "Processing Record for tottori\n",
      "Processing Record for sao gabriel da cachoeira\n",
      "Processing Record for janakpur\n",
      "Processing Record for grand junction\n",
      "Processing Record for sigli\n",
      "Processing Record for grindavik\n",
      "Processing Record for dargaville\n",
      "Processing Record for ballina\n",
      "Processing Record for acajutla\n",
      "Processing Record for waddan\n",
      "City not valid/found\n",
      "Processing Record for adrar\n",
      "Processing Record for abu dhabi\n",
      "Processing Record for malanje\n",
      "Processing Record for tuatapere\n",
      "Processing Record for sharlyk\n",
      "Processing Record for zyryanka\n",
      "Processing Record for mae hong son\n",
      "Processing Record for tepla\n",
      "Processing Record for havelock\n",
      "Processing Record for ixtapa\n",
      "Processing Record for havre-saint-pierre\n",
      "City not valid/found\n",
      "City not valid/found\n",
      "Processing Record for lasa\n",
      "Processing Record for nioro\n",
      "Processing Record for avera\n",
      "Processing Record for ashland\n",
      "Processing Record for tarata\n",
      "Processing Record for sao jose da coroa grande\n",
      "Processing Record for masvingo\n",
      "Processing Record for quatre cocos\n",
      "City not valid/found\n",
      "Processing Record for iqaluit\n",
      "Processing Record for kalmunai\n",
      "Processing Record for queanbeyan\n",
      "Processing Record for neiafu\n",
      "Processing Record for copiapo\n",
      "Processing Record for catio\n",
      "Processing Record for broome\n",
      "Processing Record for bone\n",
      "Processing Record for eureka\n",
      "Processing Record for griffith\n",
      "Processing Record for opuwo\n",
      "Processing Record for westport\n",
      "Processing Record for okato\n",
      "City not valid/found\n",
      "Processing Record for nanortalik\n",
      "Processing Record for cheremukhovo\n",
      "Processing Record for santarem\n",
      "Processing Record for klamath falls\n",
      "Processing Record for aksarka\n",
      "Processing Record for peleduy\n",
      "City not valid/found\n",
      "Processing Record for gemena\n",
      "Processing Record for crixas\n",
      "Processing Record for constitucion\n",
      "Processing Record for ipinda\n",
      "Processing Record for tonantins\n",
      "Processing Record for polovinnoye\n",
      "Processing Record for moron\n",
      "Processing Record for santa barbara\n",
      "Processing Record for verkhnevilyuysk\n",
      "Processing Record for salalah\n",
      "Processing Record for tammisaari\n",
      "Processing Record for awbari\n",
      "Processing Record for senneterre\n",
      "Processing Record for middle island\n",
      "Processing Record for suluq\n",
      "Processing Record for jalu\n",
      "Processing Record for high rock\n",
      "Processing Record for krizevci\n",
      "Processing Record for veraval\n",
      "City not valid/found\n",
      "Processing Record for meulaboh\n",
      "Processing Record for sao desiderio\n",
      "Processing Record for inhambane\n",
      "Processing Record for goundam\n",
      "Processing Record for hofn\n",
      "Processing Record for vila franca do campo\n",
      "Processing Record for terrace\n",
      "Processing Record for sol-iletsk\n",
      "Processing Record for carnarvon\n",
      "Processing Record for termiz\n",
      "Processing Record for kapelle\n",
      "Processing Record for pangody\n",
      "Processing Record for cap malheureux\n",
      "Processing Record for mulchen\n",
      "Processing Record for shitanjing\n",
      "Processing Record for ortigueira\n",
      "Processing Record for clyde river\n",
      "Processing Record for bowen\n",
      "Processing Record for millau\n",
      "Processing Record for mopti\n",
      "City not valid/found\n",
      "Processing Record for agadez\n",
      "Processing Record for sanary-sur-mer\n",
      "Processing Record for kota kinabalu\n",
      "Processing Record for verkhoyansk\n",
      "City not valid/found\n",
      "Processing Record for san policarpo\n",
      "Processing Record for matara\n",
      "Processing Record for pochutla\n",
      "Processing Record for mahebourg\n",
      "Processing Record for wynyard\n",
      "Processing Record for port augusta\n",
      "Processing Record for lebork\n",
      "Processing Record for west wendover\n",
      "Processing Record for port hueneme\n",
      "Processing Record for kruisfontein\n",
      "Processing Record for kavaratti\n",
      "Processing Record for santiago del estero\n",
      "Processing Record for shima\n",
      "Processing Record for wattegama\n",
      "Processing Record for lebu\n",
      "Processing Record for karatau\n",
      "Processing Record for kawalu\n",
      "City not valid/found\n",
      "Processing Record for guerrero negro\n",
      "Processing Record for davlekanovo\n",
      "Processing Record for attingal\n",
      "Processing Record for iquitos\n",
      "Processing Record for jinji\n",
      "City not valid/found\n",
      "Processing Record for tobermory\n",
      "Processing Record for jacareacanga\n",
      "Processing Record for pimentel\n",
      "Processing Record for davila\n",
      "Processing Record for manzhouli\n",
      "Processing Record for south sioux city\n",
      "Processing Record for kavieng\n",
      "Processing Record for fukue\n",
      "Processing Record for dikson\n",
      "Processing Record for amilly\n",
      "Processing Record for gigmoto\n",
      "Processing Record for odoyev\n",
      "City not valid/found\n",
      "Processing Record for cueto\n",
      "Processing Record for aiquile\n",
      "Processing Record for cairns\n",
      "Processing Record for coquimbo\n",
      "Processing Record for itaueira\n",
      "Processing Record for champasak\n",
      "Processing Record for gornyak\n",
      "Processing Record for the pas\n",
      "Processing Record for fort nelson\n",
      "Processing Record for peniche\n",
      "Processing Record for arman\n",
      "Processing Record for mordovo\n",
      "Processing Record for banda aceh\n",
      "Processing Record for conde\n",
      "Processing Record for keti bandar\n",
      "Processing Record for edson\n",
      "Processing Record for roald\n",
      "City not valid/found\n",
      "Processing Record for vizinga\n",
      "Processing Record for faanui\n",
      "City not valid/found\n",
      "Processing Record for bubaque\n",
      "Processing Record for morros\n",
      "City not valid/found\n",
      "Processing Record for nizwa\n",
      "Processing Record for ust-nera\n",
      "Processing Record for beyneu\n",
      "Processing Record for skovorodino\n",
      "Processing Record for anloga\n",
      "Processing Record for mayo\n",
      "Processing Record for bara\n",
      "Processing Record for zhigalovo\n",
      "Processing Record for erie\n",
      "Processing Record for san angelo\n",
      "Processing Record for omsukchan\n",
      "Processing Record for anju\n",
      "City not valid/found\n",
      "Processing Record for worcester\n",
      "City not valid/found\n",
      "Processing Record for kangalassy\n",
      "Processing Record for salinas\n",
      "Processing Record for fairbanks\n",
      "Processing Record for xam nua\n",
      "Processing Record for san felipe\n",
      "Processing Record for takoradi\n",
      "Processing Record for nagornskiy\n",
      "Processing Record for dunda\n",
      "Processing Record for umea\n",
      "Processing Record for bayan\n",
      "Processing Record for yerbogachen\n",
      "Processing Record for vanavara\n",
      "Processing Record for kamaishi\n",
      "Processing Record for pitiquito\n",
      "Processing Record for katima mulilo\n",
      "Processing Record for osakarovka\n",
      "Processing Record for tambun\n",
      "Processing Record for togur\n",
      "Processing Record for sakakah\n",
      "Processing Record for roma\n",
      "Processing Record for krasnogorskoye\n",
      "Processing Record for plettenberg bay\n",
      "Processing Record for los llanos de aridane\n",
      "Processing Record for camacha\n",
      "Processing Record for kuito\n",
      "Processing Record for mao\n",
      "Processing Record for starotitarovskaya\n",
      "City not valid/found\n",
      "Processing Record for harper\n",
      "Processing Record for tara\n",
      "Processing Record for moerai\n",
      "Processing Record for oistins\n",
      "Processing Record for oranjemund\n",
      "Processing Record for santa maria\n",
      "Processing Record for merauke\n",
      "Processing Record for lichinga\n",
      "Processing Record for leyland\n",
      "Processing Record for port macquarie\n",
      "Processing Record for areosa\n",
      "Processing Record for mareeba\n",
      "Processing Record for pando\n",
      "Processing Record for beaufort\n",
      "Processing Record for cabinda\n",
      "Processing Record for beloha\n",
      "Processing Record for ormara\n",
      "City not valid/found\n",
      "Processing Record for la mira\n",
      "Processing Record for paso de los toros\n",
      "Processing Record for sulangan\n",
      "Processing Record for kushiro\n",
      "Processing Record for murgab\n",
      "Processing Record for beisfjord\n",
      "Processing Record for zhezkazgan\n",
      "City not valid/found\n",
      "Processing Record for pasni\n",
      "Processing Record for vaitape\n",
      "Processing Record for pappinisseri\n",
      "Processing Record for tulsipur\n",
      "Processing Record for san ramon de la nueva oran\n",
      "Processing Record for mujiayingzi\n",
      "Processing Record for saint-joseph\n",
      "Processing Record for saurimo\n",
      "Processing Record for castrovillari\n",
      "Processing Record for bonfim\n",
      "Processing Record for mbaiki\n",
      "City not valid/found\n",
      "Processing Record for dorfen\n",
      "Processing Record for mackay\n",
      "Processing Record for klaksvik\n",
      "Processing Record for bandarbeyla\n",
      "City not valid/found\n",
      "Processing Record for ozinki\n",
      "Processing Record for kuching\n",
      "Processing Record for wanaka\n",
      "Processing Record for lagunas\n",
      "Processing Record for olenino\n",
      "Processing Record for pitea\n",
      "Processing Record for marsh harbour\n",
      "Processing Record for tarko-sale\n",
      "Processing Record for kloulklubed\n",
      "Processing Record for kovdor\n",
      "Processing Record for chipinge\n",
      "Processing Record for santa isabel do rio negro\n",
      "Processing Record for pisco\n",
      "Processing Record for lakselv\n",
      "Processing Record for guadalupe\n",
      "Processing Record for sarangani\n",
      "Processing Record for tay ninh\n",
      "Processing Record for ialibu\n",
      "Processing Record for macouria\n",
      "Processing Record for buckeye\n",
      "Processing Record for quelimane\n",
      "Processing Record for bilma\n",
      "Processing Record for abu samrah\n",
      "Processing Record for isla vista\n",
      "Processing Record for husavik\n",
      "Processing Record for quang ngai\n",
      "Processing Record for tucupita\n",
      "Processing Record for alappuzha\n",
      "Processing Record for general roca\n",
      "Processing Record for roswell\n",
      "Processing Record for moranbah\n",
      "Processing Record for sambava\n",
      "Processing Record for salinopolis\n",
      "Processing Record for turukhansk\n",
      "Processing Record for zhucheng\n",
      "Processing Record for kabalo\n",
      "Processing Record for tual\n",
      "Processing Record for henties bay\n",
      "Processing Record for malindi\n",
      "Processing Record for vilhena\n",
      "Processing Record for kindu\n",
      "Processing Record for leningradskiy\n",
      "Processing Record for san juan\n",
      "Processing Record for hammerfest\n",
      "Processing Record for la palma\n",
      "Processing Record for balykshi\n",
      "Processing Record for milkovo\n",
      "Processing Record for port hardy\n",
      "Processing Record for narrabri\n",
      "Processing Record for north bend\n",
      "City not valid/found\n",
      "Processing Record for dingle\n",
      "Processing Record for hami\n",
      "All cities processed\n"
     ]
    }
   ],
   "source": [
    "url = \"http://api.openweathermap.org/data/2.5/weather?units=Imperial&APPID=\"\n",
    "query_url = f\"{url}{weather_api_key}&q=\"\n",
    "print(query_url)\n",
    "\n",
    "city_name = []\n",
    "lat = []\n",
    "lng = []\n",
    "max_temp = []\n",
    "humidity = []\n",
    "cloudiness = []\n",
    "wind_speed = []\n",
    "country = []\n",
    "date = []\n",
    "\n",
    "for city in cities:\n",
    "    try:\n",
    "        weather_response = requests.get(query_url + city).json()\n",
    "        city_name.append(weather_response['name'])\n",
    "        lat.append(weather_response['coord']['lat'])\n",
    "        lng.append(weather_response['coord']['lon'])\n",
    "        max_temp.append(weather_response['main']['temp_max'])\n",
    "        humidity.append(weather_response['main']['humidity'])\n",
    "        cloudiness.append(weather_response['clouds']['all'])\n",
    "        wind_speed.append(weather_response['wind']['speed'])\n",
    "        country.append(weather_response['sys']['country'])\n",
    "        date.append(weather_response['dt'])\n",
    "        print(f\"Processing Record for {city}\")\n",
    "    except KeyError:\n",
    "        print(\"City not valid/found\")\n",
    "print(\"All cities processed\")"
   ]
  },
  {
   "cell_type": "markdown",
   "metadata": {},
   "source": [
    "### Convert Raw Data to DataFrame\n",
    "* Export the city data into a .csv.\n",
    "* Display the DataFrame"
   ]
  },
  {
   "cell_type": "code",
   "execution_count": 35,
   "metadata": {},
   "outputs": [],
   "source": [
    "weather_dict = {\n",
    "    \"City\":city_name,\n",
    "    \"Lat\":lat,\n",
    "    \"Lng\":lng,\n",
    "    \"Max Temp\":max_temp,\n",
    "    \"Humidity\":humidity,\n",
    "    \"Cloudiness\":cloudiness,\n",
    "    \"Wind Speed\":wind_speed,\n",
    "    \"Country\":country,\n",
    "    \"Date\":date\n",
    "}"
   ]
  },
  {
   "cell_type": "code",
   "execution_count": 36,
   "metadata": {},
   "outputs": [
    {
     "data": {
      "text/html": [
       "<div>\n",
       "<style scoped>\n",
       "    .dataframe tbody tr th:only-of-type {\n",
       "        vertical-align: middle;\n",
       "    }\n",
       "\n",
       "    .dataframe tbody tr th {\n",
       "        vertical-align: top;\n",
       "    }\n",
       "\n",
       "    .dataframe thead th {\n",
       "        text-align: right;\n",
       "    }\n",
       "</style>\n",
       "<table border=\"1\" class=\"dataframe\">\n",
       "  <thead>\n",
       "    <tr style=\"text-align: right;\">\n",
       "      <th></th>\n",
       "      <th>City</th>\n",
       "      <th>Lat</th>\n",
       "      <th>Lng</th>\n",
       "      <th>Max Temp</th>\n",
       "      <th>Humidity</th>\n",
       "      <th>Cloudiness</th>\n",
       "      <th>Wind Speed</th>\n",
       "      <th>Country</th>\n",
       "      <th>Date</th>\n",
       "    </tr>\n",
       "  </thead>\n",
       "  <tbody>\n",
       "    <tr>\n",
       "      <th>0</th>\n",
       "      <td>Hwange</td>\n",
       "      <td>-18.3693</td>\n",
       "      <td>26.5019</td>\n",
       "      <td>60.57</td>\n",
       "      <td>37</td>\n",
       "      <td>1</td>\n",
       "      <td>2.66</td>\n",
       "      <td>ZW</td>\n",
       "      <td>1627235475</td>\n",
       "    </tr>\n",
       "    <tr>\n",
       "      <th>1</th>\n",
       "      <td>Tamuín</td>\n",
       "      <td>21.9833</td>\n",
       "      <td>-98.7500</td>\n",
       "      <td>90.07</td>\n",
       "      <td>56</td>\n",
       "      <td>6</td>\n",
       "      <td>4.59</td>\n",
       "      <td>MX</td>\n",
       "      <td>1627235475</td>\n",
       "    </tr>\n",
       "    <tr>\n",
       "      <th>2</th>\n",
       "      <td>Dayong</td>\n",
       "      <td>25.0209</td>\n",
       "      <td>118.2898</td>\n",
       "      <td>87.48</td>\n",
       "      <td>84</td>\n",
       "      <td>85</td>\n",
       "      <td>4.27</td>\n",
       "      <td>CN</td>\n",
       "      <td>1627235475</td>\n",
       "    </tr>\n",
       "    <tr>\n",
       "      <th>3</th>\n",
       "      <td>Ushuaia</td>\n",
       "      <td>-54.8000</td>\n",
       "      <td>-68.3000</td>\n",
       "      <td>35.26</td>\n",
       "      <td>93</td>\n",
       "      <td>90</td>\n",
       "      <td>26.46</td>\n",
       "      <td>AR</td>\n",
       "      <td>1627235306</td>\n",
       "    </tr>\n",
       "    <tr>\n",
       "      <th>4</th>\n",
       "      <td>Saint-Louis</td>\n",
       "      <td>16.3333</td>\n",
       "      <td>-15.0000</td>\n",
       "      <td>101.84</td>\n",
       "      <td>32</td>\n",
       "      <td>56</td>\n",
       "      <td>11.14</td>\n",
       "      <td>SN</td>\n",
       "      <td>1627235475</td>\n",
       "    </tr>\n",
       "  </tbody>\n",
       "</table>\n",
       "</div>"
      ],
      "text/plain": [
       "          City      Lat       Lng  Max Temp  Humidity  Cloudiness  Wind Speed  \\\n",
       "0       Hwange -18.3693   26.5019     60.57        37           1        2.66   \n",
       "1       Tamuín  21.9833  -98.7500     90.07        56           6        4.59   \n",
       "2       Dayong  25.0209  118.2898     87.48        84          85        4.27   \n",
       "3      Ushuaia -54.8000  -68.3000     35.26        93          90       26.46   \n",
       "4  Saint-Louis  16.3333  -15.0000    101.84        32          56       11.14   \n",
       "\n",
       "  Country        Date  \n",
       "0      ZW  1627235475  \n",
       "1      MX  1627235475  \n",
       "2      CN  1627235475  \n",
       "3      AR  1627235306  \n",
       "4      SN  1627235475  "
      ]
     },
     "execution_count": 36,
     "metadata": {},
     "output_type": "execute_result"
    }
   ],
   "source": [
    "#Display the DataFrame\n",
    "weather_df = pd.DataFrame(weather_dict)\n",
    "weather_df.head()"
   ]
  },
  {
   "cell_type": "code",
   "execution_count": 37,
   "metadata": {},
   "outputs": [],
   "source": [
    "#Export the city data into a .csv.\n",
    "weather_df.to_csv(output_data_file)"
   ]
  },
  {
   "cell_type": "markdown",
   "metadata": {},
   "source": [
    "## Inspect the data and remove the cities where the humidity > 100%.\n",
    "----\n",
    "Skip this step if there are no cities that have humidity > 100%. "
   ]
  },
  {
   "cell_type": "code",
   "execution_count": 38,
   "metadata": {},
   "outputs": [],
   "source": [
    "weather_df.drop(weather_df[weather_df['Humidity'] > 100].index, inplace = True)"
   ]
  },
  {
   "cell_type": "code",
   "execution_count": 39,
   "metadata": {},
   "outputs": [],
   "source": [
    "#  Get the indices of cities that have humidity over 100%.\n",
    "very_humid_city = weather_df.loc[weather_df['Humidity'] > 100]\n",
    "#No cities has over >100 humidity"
   ]
  },
  {
   "cell_type": "code",
   "execution_count": 40,
   "metadata": {},
   "outputs": [],
   "source": [
    "# Make a new DataFrame equal to the city data to drop all humidity outliers by index.\n",
    "# Passing \"inplace=False\" will make a copy of the city_data DataFrame, which we call \"clean_city_data\"."
   ]
  },
  {
   "cell_type": "markdown",
   "metadata": {},
   "source": [
    "## Plotting the Data\n",
    "* Use proper labeling of the plots using plot titles (including date of analysis) and axes labels.\n",
    "* Save the plotted figures as .pngs."
   ]
  },
  {
   "cell_type": "markdown",
   "metadata": {},
   "source": [
    "## Latitude vs. Temperature Plot"
   ]
  },
  {
   "cell_type": "code",
   "execution_count": 41,
   "metadata": {
    "scrolled": true
   },
   "outputs": [
    {
     "data": {
      "image/png": "[encoded data removed]",
      "text/plain": [
       "<Figure size 432x288 with 1 Axes>"
      ]
     },
     "metadata": {
      "needs_background": "light"
     },
     "output_type": "display_data"
    }
   ],
   "source": [
    "plt.scatter(weather_df[\"Lat\"],weather_df[\"Max Temp\"])\n",
    "plt.title(\"City Latitude vs. Max Temperature (07/24/2021)\")\n",
    "plt.xlabel(\"Latitude\")\n",
    "plt.ylabel(\"Max Temperature (F)\")\n",
    "plt.grid(color=\"black\")\n",
    "plt.savefig(\"Figures/lat_and_temp_plot.png\")\n",
    "plt.show()"
   ]
  },
  {
   "cell_type": "markdown",
   "metadata": {},
   "source": [
    "## Latitude vs. Humidity Plot"
   ]
  },
  {
   "cell_type": "code",
   "execution_count": 15,
   "metadata": {},
   "outputs": [
    {
     "data": {
      "image/png": "[encoded data removed]",
      "text/plain": [
       "<Figure size 432x288 with 1 Axes>"
      ]
     },
     "metadata": {
      "needs_background": "light"
     },
     "output_type": "display_data"
    }
   ],
   "source": [
    "plt.scatter(weather_df[\"Lat\"],weather_df[\"Humidity\"])\n",
    "plt.title(\"City Latitude vs. Humidity (07/24/2021)\")\n",
    "plt.xlabel(\"Latitude\")\n",
    "plt.ylabel(\"Humidity (%)\")\n",
    "plt.grid(color=\"black\")\n",
    "plt.savefig(\"Figures/lat_and_humidity_plot.png\")\n",
    "plt.show()"
   ]
  },
  {
   "cell_type": "markdown",
   "metadata": {},
   "source": [
    "## Latitude vs. Cloudiness Plot"
   ]
  },
  {
   "cell_type": "code",
   "execution_count": 16,
   "metadata": {},
   "outputs": [
    {
     "data": {
      "image/png": "[encoded data removed]",
      "text/plain": [
       "<Figure size 432x288 with 1 Axes>"
      ]
     },
     "metadata": {
      "needs_background": "light"
     },
     "output_type": "display_data"
    }
   ],
   "source": [
    "plt.scatter(weather_df[\"Lat\"],weather_df[\"Cloudiness\"])\n",
    "plt.title(\"City Latitude vs. Cloudiness (07/24/2021)\")\n",
    "plt.xlabel(\"Latitude\")\n",
    "plt.ylabel(\"Cloudiness (%)\")\n",
    "plt.grid (color=\"black\")\n",
    "plt.savefig(\"Figures/lat_and_cloud_plot.png\")\n",
    "plt.show()"
   ]
  },
  {
   "cell_type": "markdown",
   "metadata": {},
   "source": [
    "## Latitude vs. Wind Speed Plot"
   ]
  },
  {
   "cell_type": "code",
   "execution_count": 17,
   "metadata": {},
   "outputs": [
    {
     "data": {
      "image/png": "[encoded data removed]",
      "text/plain": [
       "<Figure size 432x288 with 1 Axes>"
      ]
     },
     "metadata": {
      "needs_background": "light"
     },
     "output_type": "display_data"
    }
   ],
   "source": [
    "plt.scatter(weather_df[\"Lat\"],weather_df[\"Wind Speed\"])\n",
    "plt.title(\"City Latitude vs. Wind Speed (07/24/2021)\")\n",
    "plt.xlabel(\"Latitude\")\n",
    "plt.ylabel(\"Wind Speed (mph)\")\n",
    "plt.grid (color=\"black\")\n",
    "plt.savefig(\"Figures/lat_and_wind_plot.png\")\n",
    "plt.show()"
   ]
  },
  {
   "cell_type": "markdown",
   "metadata": {},
   "source": [
    "## Linear Regression"
   ]
  },
  {
   "cell_type": "code",
   "execution_count": null,
   "metadata": {},
   "outputs": [],
   "source": []
  },
  {
   "cell_type": "markdown",
   "metadata": {},
   "source": [
    "####  Northern Hemisphere - Max Temp vs. Latitude Linear Regression"
   ]
  },
  {
   "cell_type": "code",
   "execution_count": 74,
   "metadata": {},
   "outputs": [],
   "source": [
    "north_hem = weather_df[weather_df['Lat'] >=0]\n",
    "north_hem = pd.DataFrame(north_hem)"
   ]
  },
  {
   "cell_type": "code",
   "execution_count": 72,
   "metadata": {},
   "outputs": [
    {
     "name": "stdout",
     "output_type": "stream",
     "text": [
      "The correlation between both factors is -0.7\n"
     ]
    },
    {
     "data": {
      "image/png": "[encoded data removed]",
      "text/plain": [
       "<Figure size 432x288 with 1 Axes>"
      ]
     },
     "metadata": {
      "needs_background": "light"
     },
     "output_type": "display_data"
    }
   ],
   "source": [
    "north_hem_temp = north_hem.iloc[:,3]\n",
    "north_hem_lat = north_hem.iloc[:,1]\n",
    "correlation = st.pearsonr(north_hem_temp,north_hem_lat)\n",
    "print(f\"The correlation between both factors is {round(correlation[0],2)}\")\n",
    "x_values = north_hem['Lat']\n",
    "y_values = north_hem[\"Max Temp\"]\n",
    "(slope, intercept,rvalue, pvalue, stderr) = linregress(north_hem['Lat'],north_hem[\"Max Temp\"])\n",
    "regress_values = north_hem['Lat']* slope + intercept\n",
    "line_eq= f\"y = {round(slope, 2)} x + {round(intercept, 2)}\"\n",
    "plt.scatter(north_hem[\"Lat\"],north_hem[\"Max Temp\"],color='b')\n",
    "plt.plot(north_hem[\"Lat\"], regress_values, color='red')\n",
    "plt.annotate(line_eq,(-10,30), fontsize=14, color=\"red\",fontweight='bold')\n",
    "plt.xlabel(\"Latitude\")\n",
    "plt.ylabel(\"Max Temp\")\n",
    "plt.show()"
   ]
  },
  {
   "cell_type": "markdown",
   "metadata": {},
   "source": [
    "####  Southern Hemisphere - Max Temp vs. Latitude Linear Regression"
   ]
  },
  {
   "cell_type": "code",
   "execution_count": 75,
   "metadata": {},
   "outputs": [],
   "source": [
    "south_hem = weather_df[weather_df['Lat'] <=0]\n",
    "south_hem = pd.DataFrame(south_hem)"
   ]
  },
  {
   "cell_type": "code",
   "execution_count": 89,
   "metadata": {},
   "outputs": [
    {
     "name": "stdout",
     "output_type": "stream",
     "text": [
      "The correlation between both factors is 0.73\n"
     ]
    },
    {
     "data": {
      "image/png": "[encoded data removed]",
      "text/plain": [
       "<Figure size 432x288 with 1 Axes>"
      ]
     },
     "metadata": {
      "needs_background": "light"
     },
     "output_type": "display_data"
    }
   ],
   "source": [
    "south_hem_temp = south_hem.iloc[:,3]\n",
    "south_hem_lat = south_hem.iloc[:,1]\n",
    "correlation = st.pearsonr(south_hem_temp,south_hem_lat)\n",
    "print(f\"The correlation between both factors is {round(correlation[0],2)}\")\n",
    "x_values = south_hem['Lat']\n",
    "y_values = south_hem[\"Max Temp\"]\n",
    "(slope, intercept,rvalue, pvalue, stderr) = linregress(south_hem['Lat'],south_hem[\"Max Temp\"])\n",
    "regress_values = south_hem['Lat']* slope + intercept\n",
    "line_eq= f\"y = {round(slope, 2)} x + {round(intercept, 2)}\"\n",
    "plt.scatter(south_hem[\"Lat\"],south_hem[\"Max Temp\"],color='b')\n",
    "plt.plot(south_hem[\"Lat\"], regress_values, color='red')\n",
    "plt.annotate(line_eq,(-50,30), fontsize=14, color=\"red\",fontweight='bold')\n",
    "plt.xlabel(\"Latitude\")\n",
    "plt.ylabel(\"Max Temp\")\n",
    "plt.show()"
   ]
  },
  {
   "cell_type": "markdown",
   "metadata": {},
   "source": [
    "####  Northern Hemisphere - Humidity (%) vs. Latitude Linear Regression"
   ]
  },
  {
   "cell_type": "code",
   "execution_count": 93,
   "metadata": {},
   "outputs": [
    {
     "name": "stdout",
     "output_type": "stream",
     "text": [
      "The correlation between both factors is 0.08\n"
     ]
    },
    {
     "data": {
      "image/png": "[encoded data removed]",
      "text/plain": [
       "<Figure size 432x288 with 1 Axes>"
      ]
     },
     "metadata": {
      "needs_background": "light"
     },
     "output_type": "display_data"
    }
   ],
   "source": [
    "north_hem_hum = north_hem.iloc[:,4]\n",
    "north_hem_lat = north_hem.iloc[:,1]\n",
    "correlation = st.pearsonr(north_hem_hum,north_hem_lat) \n",
    "print(f\"The correlation between both factors is {round(correlation[0],2)}\")\n",
    "x_values = north_hem['Lat']\n",
    "y_values = north_hem[\"Humidity\"]\n",
    "(slope, intercept,rvalue, pvalue, stderr) = linregress(north_hem['Lat'],north_hem[\"Humidity\"])\n",
    "regress_values = north_hem['Lat']* slope + intercept\n",
    "line_eq= f\"y = {round(slope, 2)} x + {round(intercept, 2)}\"\n",
    "plt.scatter(north_hem[\"Lat\"],north_hem[\"Humidity\"],color='b')\n",
    "plt.plot(north_hem[\"Lat\"], regress_values, color='red')\n",
    "plt.annotate(line_eq,(-0,30), fontsize=14, color=\"red\",fontweight='bold')\n",
    "plt.xlabel(\"Latitude\")\n",
    "plt.ylabel(\"Humidity\")\n",
    "plt.show()"
   ]
  },
  {
   "cell_type": "markdown",
   "metadata": {},
   "source": [
    "####  Southern Hemisphere - Humidity (%) vs. Latitude Linear Regression"
   ]
  },
  {
   "cell_type": "code",
   "execution_count": 99,
   "metadata": {},
   "outputs": [
    {
     "name": "stdout",
     "output_type": "stream",
     "text": [
      "The correlation between both factors is -0.09\n"
     ]
    },
    {
     "data": {
      "image/png": "[encoded data removed]",
      "text/plain": [
       "<Figure size 432x288 with 1 Axes>"
      ]
     },
     "metadata": {
      "needs_background": "light"
     },
     "output_type": "display_data"
    }
   ],
   "source": [
    "south_hem_hum = south_hem.iloc[:,4]\n",
    "south_hem_lat = south_hem.iloc[:,1]\n",
    "correlation = st.pearsonr(south_hem_hum,south_hem_lat)\n",
    "print(f\"The correlation between both factors is {round(correlation[0],2)}\")\n",
    "x_values = south_hem['Lat']\n",
    "y_values = south_hem[\"Humidity\"]\n",
    "(slope, intercept,rvalue, pvalue, stderr) = linregress(south_hem['Lat'],south_hem[\"Humidity\"])\n",
    "regress_values = south_hem['Lat']* slope + intercept\n",
    "line_eq= f\"y = {round(slope, 2)} x + {round(intercept, 2)}\"\n",
    "plt.scatter(south_hem[\"Lat\"],south_hem[\"Humidity\"],color='b')\n",
    "plt.plot(south_hem[\"Lat\"], regress_values, color='red')\n",
    "plt.annotate(line_eq,(-50,30), fontsize=14, color=\"red\",fontweight='bold')\n",
    "plt.xlabel(\"Latitude\")\n",
    "plt.ylabel(\"Humidity\")\n",
    "plt.show()"
   ]
  },
  {
   "cell_type": "markdown",
   "metadata": {},
   "source": [
    "####  Northern Hemisphere - Cloudiness (%) vs. Latitude Linear Regression"
   ]
  },
  {
   "cell_type": "code",
   "execution_count": 104,
   "metadata": {},
   "outputs": [
    {
     "name": "stdout",
     "output_type": "stream",
     "text": [
      "The correlation between both factors is 0.08\n"
     ]
    },
    {
     "data": {
      "image/png": "[encoded data removed]",
      "text/plain": [
       "<Figure size 432x288 with 1 Axes>"
      ]
     },
     "metadata": {
      "needs_background": "light"
     },
     "output_type": "display_data"
    }
   ],
   "source": [
    "north_hem_cloud = north_hem.iloc[:,4]\n",
    "north_hem_lat = north_hem.iloc[:,1]\n",
    "correlation = st.pearsonr(north_hem_cloud,north_hem_lat)\n",
    "print(f\"The correlation between both factors is {round(correlation[0],2)}\")\n",
    "x_values = north_hem['Lat']\n",
    "y_values = north_hem[\"Cloudiness\"]\n",
    "(slope, intercept,rvalue, pvalue, stderr) = linregress(north_hem['Lat'],north_hem[\"Cloudiness\"])\n",
    "regress_values = north_hem['Lat']* slope + intercept\n",
    "line_eq= f\"y = {round(slope, 2)} x + {round(intercept, 2)}\"\n",
    "plt.scatter(north_hem[\"Lat\"],north_hem[\"Cloudiness\"],color='b')\n",
    "plt.plot(north_hem[\"Lat\"], regress_values, color='red')\n",
    "plt.annotate(line_eq,(-0,30), fontsize=14, color=\"red\",fontweight='bold')\n",
    "plt.xlabel(\"Latitude\")\n",
    "plt.ylabel(\"Cloudiness\")\n",
    "plt.show()"
   ]
  },
  {
   "cell_type": "markdown",
   "metadata": {},
   "source": [
    "####  Southern Hemisphere - Cloudiness (%) vs. Latitude Linear Regression"
   ]
  },
  {
   "cell_type": "code",
   "execution_count": 109,
   "metadata": {},
   "outputs": [
    {
     "name": "stdout",
     "output_type": "stream",
     "text": [
      "The correlation between both factors is -0.09\n"
     ]
    },
    {
     "data": {
      "image/png": "[encoded data removed]",
      "text/plain": [
       "<Figure size 432x288 with 1 Axes>"
      ]
     },
     "metadata": {
      "needs_background": "light"
     },
     "output_type": "display_data"
    }
   ],
   "source": [
    "south_hem_cloud = south_hem.iloc[:,4]\n",
    "south_hem_lat = south_hem.iloc[:,1]\n",
    "correlation = st.pearsonr(south_hem_cloud,south_hem_lat)\n",
    "print(f\"The correlation between both factors is {round(correlation[0],2)}\")\n",
    "x_values = south_hem['Lat']\n",
    "y_values = south_hem[\"Cloudiness\"]\n",
    "(slope, intercept,rvalue, pvalue, stderr) = linregress(south_hem['Lat'],south_hem[\"Cloudiness\"])\n",
    "regress_values =south_hem['Lat']* slope + intercept\n",
    "line_eq= f\"y = {round(slope, 2)} x + {round(intercept, 2)}\"\n",
    "plt.scatter(south_hem[\"Lat\"],south_hem[\"Cloudiness\"],color='b')\n",
    "plt.plot(south_hem[\"Lat\"], regress_values, color='red')\n",
    "plt.annotate(line_eq,(-50,30), fontsize=14, color=\"red\",fontweight='bold')\n",
    "plt.xlabel(\"Latitude\")\n",
    "plt.ylabel(\"Cloudiness\")\n",
    "plt.show()"
   ]
  },
  {
   "cell_type": "markdown",
   "metadata": {},
   "source": [
    "####  Northern Hemisphere - Wind Speed (mph) vs. Latitude Linear Regression"
   ]
  },
  {
   "cell_type": "code",
   "execution_count": 112,
   "metadata": {},
   "outputs": [
    {
     "name": "stdout",
     "output_type": "stream",
     "text": [
      "The correlation between both factors is -0.06\n"
     ]
    },
    {
     "data": {
      "image/png": "[encoded data removed]",
      "text/plain": [
       "<Figure size 432x288 with 1 Axes>"
      ]
     },
     "metadata": {
      "needs_background": "light"
     },
     "output_type": "display_data"
    }
   ],
   "source": [
    "north_hem_wind = north_hem.iloc[:,6]\n",
    "north_hem_lat = north_hem.iloc[:,1]\n",
    "correlation = st.pearsonr(north_hem_wind,north_hem_lat)\n",
    "print(f\"The correlation between both factors is {round(correlation[0],2)}\")\n",
    "x_values = north_hem['Lat']\n",
    "y_values = north_hem[\"Wind Speed\"]\n",
    "(slope, intercept,rvalue, pvalue, stderr) = linregress(north_hem['Lat'],north_hem[\"Wind Speed\"])\n",
    "regress_values = north_hem['Lat']* slope + intercept\n",
    "line_eq= f\"y = {round(slope, 2)} x + {round(intercept, 2)}\"\n",
    "plt.scatter(north_hem[\"Lat\"],north_hem[\"Wind Speed\"],color='b')\n",
    "plt.plot(north_hem[\"Lat\"], regress_values, color='red')\n",
    "plt.annotate(line_eq,(-0,30), fontsize=14, color=\"red\",fontweight='bold')\n",
    "plt.xlabel(\"Latitude\")\n",
    "plt.ylabel(\"Wind Speed\")\n",
    "plt.show()"
   ]
  },
  {
   "cell_type": "markdown",
   "metadata": {},
   "source": [
    "####  Southern Hemisphere - Wind Speed (mph) vs. Latitude Linear Regression"
   ]
  },
  {
   "cell_type": "code",
   "execution_count": 128,
   "metadata": {},
   "outputs": [
    {
     "name": "stdout",
     "output_type": "stream",
     "text": [
      "The correlation between both factors is -0.09\n"
     ]
    },
    {
     "data": {
      "image/png": "[encoded data removed]",
      "text/plain": [
       "<Figure size 432x288 with 1 Axes>"
      ]
     },
     "metadata": {
      "needs_background": "light"
     },
     "output_type": "display_data"
    }
   ],
   "source": [
    "south_hem_cloud = south_hem.iloc[:,4]\n",
    "south_hem_lat = south_hem.iloc[:,1]\n",
    "correlation = st.pearsonr(south_hem_cloud,south_hem_lat)\n",
    "print(f\"The correlation between both factors is {round(correlation[0],2)}\")\n",
    "x_values = south_hem['Lat']\n",
    "y_values = south_hem[\"Wind Speed\"]\n",
    "(slope, intercept,rvalue, pvalue, stderr) = linregress(south_hem['Lat'],south_hem[\"Wind Speed\"])\n",
    "regress_values =south_hem['Lat']* slope + intercept\n",
    "line_eq= f\"y = {round(slope, 2)} x + {round(intercept, 2)}\"\n",
    "plt.scatter(south_hem[\"Lat\"],south_hem[\"Wind Speed\"],color='b')\n",
    "plt.plot(south_hem[\"Lat\"], regress_values, color='red')\n",
    "plt.annotate(line_eq,(-50,5), fontsize=14, color=\"red\",fontweight='bold')\n",
    "plt.xlabel(\"Latitude\")\n",
    "plt.ylabel(\"Wind Speed\")\n",
    "plt.show()"
   ]
  },
  {
   "cell_type": "code",
   "execution_count": null,
   "metadata": {},
   "outputs": [],
   "source": []
  }
 ],
 "metadata": {
  "anaconda-cloud": {},
  "kernel_info": {
   "name": "python3"
  },
  "kernelspec": {
   "display_name": "Python 3",
   "language": "python",
   "name": "python3"
  },
  "language_info": {
   "codemirror_mode": {
    "name": "ipython",
    "version": 3
   },
   "file_extension": ".py",
   "mimetype": "text/x-python",
   "name": "python",
   "nbconvert_exporter": "python",
   "pygments_lexer": "ipython3",
   "version": "3.7.10"
  },
  "latex_envs": {
   "LaTeX_envs_menu_present": true,
   "autoclose": false,
   "autocomplete": true,
   "bibliofile": "biblio.bib",
   "cite_by": "apalike",
   "current_citInitial": 1,
   "eqLabelWithNumbers": true,
   "eqNumInitial": 1,
   "hotkeys": {
    "equation": "Ctrl-E",
    "itemize": "Ctrl-I"
   },
   "labels_anchors": false,
   "latex_user_defs": false,
   "report_style_numbering": false,
   "user_envs_cfg": false
  },
  "nteract": {
   "version": "0.12.3"
  }
 },
 "nbformat": 4,
 "nbformat_minor": 4
}
